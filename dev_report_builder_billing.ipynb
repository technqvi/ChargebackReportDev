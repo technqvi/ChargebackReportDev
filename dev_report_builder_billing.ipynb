{
 "cells": [
  {
   "cell_type": "code",
   "execution_count": null,
   "metadata": {},
   "outputs": [],
   "source": [
    "import pandas as pd\n",
    "import numpy as np\n",
    "\n",
    "import chargeback_rpt.vm_data_utility as vm_util\n",
    "import chargeback_rpt.db_postgres_command as db_command\n",
    "import chargeback_rpt.vm_data_charger as vc\n",
    "\n",
    "import os\n",
    "import datetime\n",
    "import chargeback_rpt.email_notifier as x_mail\n",
    "from dateutil.relativedelta import relativedelta"
   ]
  },
  {
   "cell_type": "markdown",
   "metadata": {},
   "source": [
    "# For test (# after build to be .py)"
   ]
  },
  {
   "cell_type": "code",
   "execution_count": null,
   "metadata": {},
   "outputs": [],
   "source": [
    "month_param='08'\n",
    "year_param='2021'\n",
    "\n",
    "#report_path=os.path.abspath(r'D:\\ChargeBackApp\\temp\\test_report\\overview.pdf')\n",
    "detil_path= os.path.abspath(r'D:\\ChargeBackApp\\temp\\Chargeback_Detail_8-2021.xlsx')\n",
    "\n",
    "\n",
    "df_detail=pd.read_excel(detil_path,sheet_name='VMs')\n",
    "print(df_detail.info())\n",
    "\n",
    "df_detail_storage=pd.read_excel(detil_path,sheet_name='NetApp')\n",
    "print(df_detail_storage.info())\n",
    "\n",
    "df_nimble_detail=None\n",
    "df_nimble_detail=pd.read_excel(detil_path,sheet_name='Nimble')\n",
    "print(df_nimble_detail.info())\n",
    "\n",
    "df_primera_detail=None\n",
    "df_primera_detail=pd.read_excel(detil_path,sheet_name='Primera')\n",
    "print(df_primera_detail.info())\n"
   ]
  },
  {
   "cell_type": "code",
   "execution_count": null,
   "metadata": {},
   "outputs": [],
   "source": [
    "#def create_billing_report(df_all_costing,month_param,year_param):\n",
    "# df_detail=df_all_costing['vm_detail']\n",
    "# df_detail_storage=df_all_costing['storage_detail']\n",
    "# df_nimble_detail=df_all_costing['nimble_detail']\n",
    "# df_primera_detail=df_all_costing['primera_detail']"
   ]
  },
  {
   "cell_type": "markdown",
   "metadata": {},
   "source": [
    "# Initialize data to Get Reader for Report"
   ]
  },
  {
   "cell_type": "code",
   "execution_count": null,
   "metadata": {},
   "outputs": [],
   "source": [
    "\n",
    "\n",
    "currency_unit='(฿)'\n",
    "name_costType=\"Cost Type\"\n",
    "sum_costType=\"Cost\"+currency_unit\n",
    "total_costType=\"Total All Types\"\n",
    "\n",
    "col_no_vm='VM Server(No.)'\n",
    "col_no_backup='Backup(No.)'\n",
    "col_size_storage=' Storage-UsedSize(GB)'\n",
    "\n",
    "onlyBackup_col='only_backup'\n",
    "cate_group=[\"cost_center\", \"system_name\"]\n",
    "\n",
    "single_group=[\"system_name\"]\n",
    "\n",
    "vmCostType_params=['vm_cost','backup_cost']\n",
    "strageCostType_params=['storage_cost']\n",
    "\n",
    "main_vm='vm'\n",
    "main_storage='size_used_gb'\n",
    "\n",
    "\n",
    "key_storage='storage'\n",
    "key_vm='vm'\n",
    "\n",
    "# nonlocal total_keyWords\n",
    "#total_keyWords=[total_costType,sub_total_2]\n",
    "\n",
    "\n",
    "# For show vm detail\n",
    "\n",
    "vm_show_cols=[main_vm,'system_name','cost_center','cpu','memory','capacity_gb','os','database']\n",
    "backup_show_cols=[main_vm,'system_name','cost_center','backup_size_gb']\n",
    "\n"
   ]
  },
  {
   "cell_type": "markdown",
   "metadata": {},
   "source": [
    "# Start Transaction"
   ]
  },
  {
   "cell_type": "code",
   "execution_count": null,
   "metadata": {},
   "outputs": [],
   "source": [
    "t_id=vm_util.creating_transaction(4,month_param,year_param)\n",
    "print(f\"ETL Transaction ID: {t_id}\")"
   ]
  },
  {
   "cell_type": "code",
   "execution_count": null,
   "metadata": {},
   "outputs": [],
   "source": [
    "list_error=[]\n",
    "print(list_error)"
   ]
  },
  {
   "cell_type": "code",
   "execution_count": null,
   "metadata": {},
   "outputs": [],
   "source": [
    "def check_error_point(tran_id):\n",
    "  print(list_error)\n",
    "  if True in list_error:\n",
    "\n",
    "        \n",
    "    vm_util.collect_error_to_sent_mail(tran_id) \n",
    "    \n",
    "    print(\"Create billing data occured error\") \n",
    "    \n",
    "    raise Exception(\"Program is teminated and check error from email and log_error.txt\")\n",
    "    \n",
    "  list_error.clear()\n",
    "  print(list_error)  "
   ]
  },
  {
   "cell_type": "markdown",
   "metadata": {},
   "source": [
    "# Copy VM for short detail later"
   ]
  },
  {
   "cell_type": "code",
   "execution_count": null,
   "metadata": {},
   "outputs": [],
   "source": [
    "print(\"copy vm dataframe to create detail later\")\n",
    "df_master_detail=df_detail.copy()\n"
   ]
  },
  {
   "cell_type": "markdown",
   "metadata": {},
   "source": [
    "# Functions For Reuse"
   ]
  },
  {
   "cell_type": "code",
   "execution_count": null,
   "metadata": {},
   "outputs": [],
   "source": [
    "# This version for test only by getting from excel file \n",
    "# temp_path=os.path.abspath(r'D:\\JupyterCode\\Yit\\ChargebackReport\\report_data\\Chargeback_Detail_12-2020.xlsx')\n",
    "# dfx_list=pd.read_excel(temp_path,sheet_name=['vm','storage'])\n",
    "def get_df_detail_from_file(dfx_dict,key_name,disp_cols,mappingDict_cols):\n",
    "    dfx=dfx_dict[key_name]\n",
    "    dfx=dfx[disp_cols]\n",
    "    dfx=dfx.rename(columns=mappingDict_cols)\n",
    "    return dfx\n",
    "\n",
    "# this verson for production by getting from method  chargeback_rpt.report_builder_detail as detail_rpt  \n",
    "def get_df_detail(dfx,disp_cols,mappingDict_cols):\n",
    "    dfx=dfx[disp_cols]\n",
    "    dfx=dfx.rename(columns=mappingDict_cols)\n",
    "    return dfx\n",
    "    "
   ]
  },
  {
   "cell_type": "code",
   "execution_count": null,
   "metadata": {},
   "outputs": [],
   "source": [
    "def internal_display_mapping(listInternalCols):\n",
    "  #dictCols_DetailVM=dict(zip(listInternalCols_DetailVM,listDispCols_DetailVM))   \n",
    " listDispCols=[]\n",
    " dictCols_mapping={}\n",
    " dictDisp_mapping={} \n",
    "\n",
    " for  x in  listInternalCols:\n",
    "   sr_temp= vc.get_datafield_by_column_name(x)\n",
    "\n",
    "   if sr_temp is not None:\n",
    "        \n",
    "    disp_col=sr_temp['column_display_name']\n",
    "    col=sr_temp['column_table_name']\n",
    "    listDispCols.append(disp_col)\n",
    "    dictCols_mapping[disp_col]=col\n",
    "    dictDisp_mapping[col]=disp_col\n",
    "    \n",
    "   else:\n",
    "    # write error and add error to list\n",
    "    list_error.append(True)\n",
    "    error_message=f\"column named { x} in report detail were not found in datafield_mapping table\"\n",
    "    print(error_message)   \n",
    "    vm_util.add_error_to_database(7,error_message,t_id)  \n",
    "\n",
    "    \n",
    " return  listDispCols,dictCols_mapping,dictDisp_mapping"
   ]
  },
  {
   "cell_type": "code",
   "execution_count": null,
   "metadata": {},
   "outputs": [],
   "source": [
    "def listColumns_for_creatingReport(mainCols,cate_group,xCostTuye_params,otherCols=None):\n",
    " listInternalCols_Detail=mainCols+cate_group\n",
    " dispCols_DetailList,internnal_DetailDict,disp_DetailDict=internal_display_mapping(listInternalCols_Detail)\n",
    "\n",
    "#  print(dispCols_DetailList)   \n",
    "#  print(internnal_DetailDict)\n",
    "#  print(disp_DetailDict)\n",
    "\n",
    " xCostType=vc.list_cost_type(xCostTuye_params)\n",
    " total_x=xCostType['report_name'].tolist()\n",
    " if otherCols is not None:\n",
    "  x_cols=dispCols_DetailList+total_x+otherCols\n",
    " else:\n",
    "  x_cols=dispCols_DetailList+total_x  \n",
    "\n",
    "#  print(x_cols)\n",
    " return x_cols,internnal_DetailDict,disp_DetailDict"
   ]
  },
  {
   "cell_type": "code",
   "execution_count": null,
   "metadata": {},
   "outputs": [],
   "source": [
    "def find_currency_unit(x,sub_x):\n",
    "\n",
    " if (x.find(sub_x) != -1): \n",
    "    return x\n",
    " else: \n",
    "    return f'{x}{sub_x}'"
   ]
  },
  {
   "cell_type": "markdown",
   "metadata": {},
   "source": [
    "# Fix Name in Report and Additional aggregate  name"
   ]
  },
  {
   "cell_type": "code",
   "execution_count": null,
   "metadata": {},
   "outputs": [],
   "source": [
    "try:\n",
    "   print(\"Load Cost Type to bill report\")\n",
    "\n",
    "   vm_cost=vc.get_cost_type('vm_cost')['report_name']\n",
    "   smr_vm_cost=vm_cost.replace(currency_unit,'').strip() \n",
    "\n",
    "   backup_cost=vc.get_cost_type('backup_cost')['report_name']\n",
    "   smr_backup_cost=backup_cost.replace(currency_unit,'').strip()\n",
    "\n",
    "\n",
    "   \n",
    "   print(\"Item for header\")\n",
    "   print(vm_cost)\n",
    "   print(backup_cost)\n",
    "\n",
    "   \n",
    "   print(\"=========================================\")\n",
    "   print(\"Item for summary\") \n",
    "   print(smr_vm_cost)\n",
    "   print(smr_backup_cost)\n",
    "\n",
    "    \n",
    "except Exception as ex:\n",
    "   list_error.append(True)\n",
    "   error_message=f\"not found either vm_cost, backup_cost or storage_cost in columne type_name in cost_type table\"\n",
    "   print(error_message)   \n",
    "   vm_util.add_error_to_database(19,error_message,t_id)  \n",
    "    \n",
    "    \n",
    "#vm_backup_COST=f'Total VM + Backup(฿)'\n",
    "#print(vm_backup_COST)"
   ]
  },
  {
   "cell_type": "code",
   "execution_count": null,
   "metadata": {},
   "outputs": [],
   "source": [
    "check_error_point(t_id)"
   ]
  },
  {
   "cell_type": "markdown",
   "metadata": {},
   "source": [
    "# 1#Generate Overview Report Data"
   ]
  },
  {
   "cell_type": "code",
   "execution_count": null,
   "metadata": {},
   "outputs": [],
   "source": [
    "print(\"1.Generate Overview Report\")"
   ]
  },
  {
   "cell_type": "markdown",
   "metadata": {},
   "source": [
    "# VM Report & Veeam Backup"
   ]
  },
  {
   "cell_type": "code",
   "execution_count": null,
   "metadata": {},
   "outputs": [],
   "source": [
    "print(\"VM Report\")"
   ]
  },
  {
   "cell_type": "code",
   "execution_count": null,
   "metadata": {},
   "outputs": [],
   "source": [
    "print(\"create columns for building vm report\")\n",
    "vm_cols,internaVM_mapCols,dispVM_mapCols=listColumns_for_creatingReport([main_vm],cate_group,vmCostType_params,[onlyBackup_col])\n",
    "print(vm_cols)\n",
    "print(internaVM_mapCols)\n",
    "print(dispVM_mapCols)"
   ]
  },
  {
   "cell_type": "code",
   "execution_count": null,
   "metadata": {},
   "outputs": [],
   "source": [
    "check_error_point(t_id)"
   ]
  },
  {
   "cell_type": "code",
   "execution_count": null,
   "metadata": {},
   "outputs": [],
   "source": [
    "print(\"load data from detail report for building billing vm report\")\n",
    "df_detail=get_df_detail(df_detail,vm_cols,internaVM_mapCols)\n",
    "\n",
    "df_detail_vm=df_detail[df_detail[onlyBackup_col]==False]\n",
    "df_detail_backup=df_detail[df_detail[backup_cost]>0]\n",
    "\n",
    "df_detail_vm=df_detail_vm.drop(columns=[onlyBackup_col])\n",
    "df_detail_backup=df_detail_backup.drop(columns=[onlyBackup_col])\n",
    "\n"
   ]
  },
  {
   "cell_type": "code",
   "execution_count": null,
   "metadata": {},
   "outputs": [],
   "source": [
    "print(\"============================================================\")\n",
    "print(\"vm info\")\n",
    "print(df_detail_vm.head(10))\n",
    "print(\"backup info\")\n",
    "print(df_detail_backup.head(10))"
   ]
  },
  {
   "cell_type": "markdown",
   "metadata": {},
   "source": [
    "# Aggregate and vm & backup"
   ]
  },
  {
   "cell_type": "code",
   "execution_count": null,
   "metadata": {},
   "outputs": [],
   "source": [
    "def aggregate_vm_backup(df_detailX,df_detailY):\n",
    " print(\"aggregate for vm report\")\n",
    " #as_index=False\n",
    " df_x=df_detailX.groupby(cate_group,as_index=False).agg({\n",
    "  vm_cost:'sum',\n",
    " })\n",
    "\n",
    " df_y=df_detailY.groupby(cate_group,as_index=False).agg({\n",
    "  backup_cost:'sum',\n",
    " })\n",
    " \n",
    "#  print(\"combine  vm and backup data\")\n",
    "#  df_xy=pd.merge(df_x,df_y,left_on=cate_group,right_on=cate_group,how='outer').fillna(0)\n",
    "#  df_xy[vm_backup_COST]= df_xy[vm_cost]+ df_xy[backup_cost]\n",
    "#  print(df_xy)   \n",
    "#  print(\"=================================================================\")   \n",
    "\n",
    " print(df_x.head(20))\n",
    " print(\"=================================================================\")\n",
    " print(df_y.head(20))    \n",
    " \n",
    "\n",
    "#  return df_x,df_y,df_xy\n",
    " return df_x,df_y \n",
    "\n",
    "   \n",
    "df_vm,df_backup=aggregate_vm_backup(df_detail_vm,df_detail_backup) \n"
   ]
  },
  {
   "cell_type": "code",
   "execution_count": null,
   "metadata": {},
   "outputs": [],
   "source": [
    "print(\"List Cost Center For VM and Backup\")"
   ]
  },
  {
   "cell_type": "code",
   "execution_count": null,
   "metadata": {},
   "outputs": [],
   "source": [
    "vm_cc_group=df_vm['cost_center'].unique()\n",
    "vm_cc_group"
   ]
  },
  {
   "cell_type": "code",
   "execution_count": null,
   "metadata": {},
   "outputs": [],
   "source": [
    "backup_cc_group=df_backup['cost_center'].unique()\n",
    "backup_cc_group"
   ]
  },
  {
   "cell_type": "markdown",
   "metadata": {},
   "source": [
    "# X Storage Report"
   ]
  },
  {
   "cell_type": "code",
   "execution_count": null,
   "metadata": {},
   "outputs": [],
   "source": [
    "def build_storage_data_report(df_x_detail,x_model_name,x_storage_size,x_param,xCostType_params):\n",
    "    \n",
    "    print(f\"1.load Cost Type to {x_model_name} report\")\n",
    "\n",
    "    x_cost=vc.get_cost_type(x_param)['report_name']\n",
    "    smr_x_cost=x_cost.replace(currency_unit,'').strip()\n",
    "\n",
    "\n",
    "    print(f\"2.create columns for building {x_model_name } report \")\n",
    "    x_cols,internal_mapCols,disp_mapCols=listColumns_for_creatingReport([x_storage_size],cate_group,xCostType_params)\n",
    "    #print(x_cols)\n",
    "    #print(internal_mapCols)\n",
    "    #print(disp_mapCols)\n",
    "\n",
    "    print(f\"3.load data for building {x_model_name} report\")\n",
    "    df_x_detail=get_df_detail(df_x_detail,x_cols,internal_mapCols)\n",
    "    #print(f\"{x_model_name} info\")\n",
    "    #print(df_x_detail.head(10))\n",
    "\n",
    "    print(f\"4.aggregate for {x_model_name}  report\")\n",
    "    df_x=df_x_detail.groupby(cate_group,as_index=False).agg({\n",
    "      x_cost:'sum',\n",
    "    })\n",
    "    #print(df_x)\n",
    "\n",
    "    print(f\"6.list Cost Center For {x_model_name} Storage\")\n",
    "    x_cc_group=df_x['cost_center'].unique()\n",
    "    #print(x_cc_group)\n",
    "    \n",
    "    return df_x_detail,df_x,x_cc_group,x_cost,smr_x_cost,internal_mapCols,disp_mapCols\n"
   ]
  },
  {
   "cell_type": "code",
   "execution_count": null,
   "metadata": {},
   "outputs": [],
   "source": [
    "print(\"NetApp\")\n",
    "netapp_model_name='netapp'\n",
    "netapp_storage_size='size_used_gb'\n",
    "netapp_param='storage_cost'\n",
    "netappCostType_params=[netapp_param]\n",
    "\n",
    "if df_detail_storage is not None:\n",
    "    print(df_detail_storage)\n",
    "    df_detail_storage,df_storage,storage_cc_group,storage_cost,smr_storage_cost,internaSTR_mapCols,dispSTR_mapCols \\\n",
    "      =build_storage_data_report(df_detail_storage,netapp_model_name,netapp_storage_size,netapp_param,netappCostType_params)\n",
    "    print(\"============================================================\")\n",
    "    print(\"NetApp data has been transformed\")\n",
    "    print(df_detail_storage)\n",
    "    print(df_storage )\n",
    "    print(storage_cost)\n",
    "    print(smr_storage_cost)   \n",
    "    print(internaSTR_mapCols)\n",
    "    print(dispSTR_mapCols)\n",
    "    print(storage_cc_group)\n",
    "    \n",
    "else:\n",
    "    df_storage=None\n",
    "    storage_cc_group=[]\n",
    "    "
   ]
  },
  {
   "cell_type": "code",
   "execution_count": null,
   "metadata": {},
   "outputs": [],
   "source": [
    "print(\"Nimble\")\n",
    "nim_model_name='nimble'\n",
    "nim_storage_size='size_used_gb_nimble'\n",
    "\n",
    "nim_param='nimble_cost'\n",
    "nimCostType_params=[nim_param]\n",
    "\n",
    "if df_nimble_detail is not None:\n",
    "\n",
    "    print(df_nimble_detail)\n",
    "    \n",
    "    \n",
    "    df_nimble_detail,df_nim,nim_cc_group,nim_cost,smr_nim_cost,nim_internal_mapCols,nim_disp_mapCols \\\n",
    "    =build_storage_data_report(df_nimble_detail,nim_model_name,nim_storage_size,nim_param,nimCostType_params)\n",
    "    \n",
    "    \n",
    "    print(\"============================================================\")\n",
    "    print(\"Nimble data has been transformed\")\n",
    "    print(df_nimble_detail)\n",
    "    print( df_nim  )\n",
    "    print(nim_cost)\n",
    "    print(smr_nim_cost)   \n",
    "    print(nim_internal_mapCols)\n",
    "    print(nim_disp_mapCols)\n",
    "    print(nim_cc_group)\n",
    "   \n",
    "else:\n",
    "    df_nim=None\n",
    "    nim_cc_group=[]\n",
    "\n"
   ]
  },
  {
   "cell_type": "code",
   "execution_count": null,
   "metadata": {},
   "outputs": [],
   "source": [
    "print(\"Primera\")\n",
    "prim_model_name='primera'\n",
    "prim_storage_size='size_used_gb_primera'\n",
    "\n",
    "prim_param='primera_cost'\n",
    "primCostType_params=[prim_param]\n",
    "\n",
    "if  df_primera_detail is not None:\n",
    "    \n",
    "    print(df_primera_detail)\n",
    "    print(\"============================================================\")\n",
    "    print(\"Primera data has been transformed\")\n",
    "    df_primera_detail,df_prim,prim_cc_group,prim_cost,smr_prim_cost,prim_internal_mapCols,prim_disp_mapCols= \\\n",
    "    build_storage_data_report(df_primera_detail,prim_model_name,prim_storage_size,prim_param,primCostType_params)\n",
    "    \n",
    "\n",
    "    print(df_primera_detail)\n",
    "    print(df_prim )\n",
    "    print(prim_cost)\n",
    "    print(smr_prim_cost)   \n",
    "    print(prim_internal_mapCols)\n",
    "    print(prim_disp_mapCols)\n",
    "    print(prim_cc_group)\n",
    "     \n",
    "else:\n",
    "    print(\"No data\")\n",
    "    df_prim=None\n",
    "    prim_cc_group=[]\n",
    "    "
   ]
  },
  {
   "cell_type": "markdown",
   "metadata": {},
   "source": [
    "# VM & Backup & Storate Cost Summary By Iteration"
   ]
  },
  {
   "cell_type": "markdown",
   "metadata": {},
   "source": [
    "# Create Expenditure Summary By Cost Type"
   ]
  },
  {
   "cell_type": "code",
   "execution_count": null,
   "metadata": {},
   "outputs": [],
   "source": [
    "print(\"Create Expenditure Summary By Cost Type\")\n",
    "\n",
    "cost_summary_data=[]\n",
    "cost_summary_index=[]\n",
    "\n",
    "if df_vm is not None:\n",
    "  cost_summary_data.append(df_vm[vm_cost].sum())  \n",
    "  cost_summary_index.append(smr_vm_cost)\n",
    "    \n",
    "if  df_backup is not None:\n",
    "  cost_summary_data.append(df_backup[backup_cost].sum())  \n",
    "  cost_summary_index.append(smr_backup_cost)  \n",
    "    \n",
    "if  df_storage is not None:\n",
    "  cost_summary_data.append(df_storage[storage_cost].sum())  \n",
    "  cost_summary_index.append(smr_storage_cost)  \n",
    "    \n",
    "if  df_nim is not None:\n",
    "  cost_summary_data.append(df_nim[nim_cost].sum())  \n",
    "  cost_summary_index.append(smr_nim_cost)  \n",
    "    \n",
    "if  df_prim is not None:\n",
    "  cost_summary_data.append(df_prim[prim_cost].sum())  \n",
    "  cost_summary_index.append(smr_prim_cost)  \n",
    "\n",
    "    \n",
    "\n",
    "df_costTypeSummary= (pd.Series(cost_summary_data, index =cost_summary_index)).to_frame(name=sum_costType)\n",
    "sum_allCostType=df_costTypeSummary[sum_costType].sum()\n",
    "\n",
    "df_costTypeSummary.index.name=name_costType\n",
    "df_costTypeSummary.reset_index(inplace=True)\n",
    "\n",
    "\n",
    "print(df_costTypeSummary)\n",
    "\n",
    "print(\"Total Cost of BDMS\")\n",
    "print(sum_allCostType)"
   ]
  },
  {
   "cell_type": "markdown",
   "metadata": {},
   "source": [
    "# Set Overview Report Data Dict"
   ]
  },
  {
   "cell_type": "code",
   "execution_count": null,
   "metadata": {},
   "outputs": [],
   "source": [
    "print(\"Set Overview Report Data to Dict\")\n",
    "try:\n",
    " print(\"Get BDMS Contact Info Overview\")\n",
    "\n",
    "\n",
    " overview_site=vm_util.get_config_value(\"main_cost_center\",t_id)    \n",
    " cc_info_sr=vm_util.get_cost_center(overview_site,t_id)\n",
    "\n",
    " print(cc_info_sr)\n",
    "\n",
    "  # dict to render data in html file\n",
    " overview_dict={\n",
    "\n",
    "                     \"CostCenterInfo\":cc_info_sr,\n",
    "                     \"Total_AllCost\" :str(sum_allCostType) ,\n",
    "                     \"Total_ByCateCost\": df_costTypeSummary,\n",
    "                     \"VM_CC\": vm_cc_group,\n",
    "                     \"VM_Cost\": df_vm ,\n",
    "                     \"Backup_CC\":backup_cc_group,\n",
    "                     \"Backup_Cost\": df_backup,\n",
    "                     \"Storage_CC\":storage_cc_group,\n",
    "                     \"Storage_Cost\":df_storage ,\n",
    "                     \"Nimble_CC\":nim_cc_group,\n",
    "                     \"Nimble_Cost\":df_nim ,\n",
    "                     \"Primera_CC\":prim_cc_group,\n",
    "                     \"Primera_Cost\":df_prim ,\n",
    " }\n",
    "except Exception as ex:\n",
    " list_error.append(True)\n",
    " \n",
    "\n"
   ]
  },
  {
   "cell_type": "code",
   "execution_count": null,
   "metadata": {},
   "outputs": [],
   "source": [
    "check_error_point(t_id)\n",
    "\n",
    "print(\"======================Completed to create overview report=============================\")"
   ]
  },
  {
   "cell_type": "markdown",
   "metadata": {},
   "source": [
    "# 2#Generate Report Data For Each Cost Center"
   ]
  },
  {
   "cell_type": "code",
   "execution_count": null,
   "metadata": {},
   "outputs": [],
   "source": [
    "print(\"2.Generate Report For Each Cost Center\")\n",
    "CC_Dict_Report={}"
   ]
  },
  {
   "cell_type": "code",
   "execution_count": null,
   "metadata": {},
   "outputs": [],
   "source": [
    "print(\"list columns to show in VM Summary\")\n",
    "CC_VM_SumList=[col_no_vm,vm_cost]\n",
    "print(CC_VM_SumList)\n",
    "\n",
    "print(\"list columns to vm in detail\")\n",
    "vm_show_DispCols,to_internale_map,to_disp_map= internal_display_mapping(vm_show_cols)\n",
    "\n",
    "vm_show_DispCols=vm_show_DispCols+[vm_cost]\n",
    "\n",
    "print(\"VM Show_DispCols\")\n",
    "print(vm_show_DispCols)\n",
    "print(to_internale_map)\n",
    "print(to_disp_map)"
   ]
  },
  {
   "cell_type": "code",
   "execution_count": null,
   "metadata": {},
   "outputs": [],
   "source": [
    "print(\"list columns to show in Backup Summary\")\n",
    "CC_Backup_SumList=[col_no_backup,backup_cost]\n",
    "print(CC_Backup_SumList)\n",
    "\n",
    "\n",
    "print(\"list columns to backup in detail\")\n",
    "backup_show_DispCols, backup_to_internale_map, backup_to_disp_map= internal_display_mapping(backup_show_cols)\n",
    "\n",
    "backup_show_DispCols=backup_show_DispCols+[backup_cost]\n",
    "\n",
    "print(\"BACKUP Show_DispCols\")\n",
    "print(backup_show_DispCols)\n",
    "print(backup_to_internale_map)\n",
    "print(backup_to_disp_map)\n"
   ]
  },
  {
   "cell_type": "code",
   "execution_count": null,
   "metadata": {},
   "outputs": [],
   "source": [
    "print(\"Cost ceter by product\")\n",
    "print(\"VM Group : \", vm_cc_group)\n",
    "print(\"Backup Group \", backup_cc_group)\n",
    "print(\"NetApp Group : \", storage_cc_group)\n",
    "print(\"Nimble Group : \",nim_cc_group)\n",
    "print(\"Premira Group : \", prim_cc_group)\n",
    "\n",
    "\n",
    "cc_List= list(set().union(vm_cc_group, backup_cc_group,storage_cc_group,nim_cc_group,prim_cc_group)) \n",
    "print(f\"============================All-{len(cc_List)}===================================================\")\n",
    "print(cc_List)\n",
    "\n",
    "# print(\"For test\")\n",
    "# cc_List=['BHQ','GLS7180','GLS1000','GLS7444','unknown']\n",
    "# print(cc_List)"
   ]
  },
  {
   "cell_type": "code",
   "execution_count": null,
   "metadata": {},
   "outputs": [],
   "source": [
    "def aggregate_vm_backup_EachCostCenter(df_detailX,df_detailY):\n",
    "\n",
    " #as_index=False\n",
    " # df_x for vm\n",
    " df_x=df_detailX.groupby(single_group,as_index=False).agg({\n",
    "  main_vm:'count' ,   \n",
    "  vm_cost:'sum'\n",
    "    \n",
    " })\n",
    " df_x=df_x.rename(columns={main_vm:col_no_vm})  \n",
    "\n",
    " # df_y for backup\n",
    " df_y=df_detailY.groupby(single_group,as_index=False).agg({\n",
    "  main_vm:'count' ,  \n",
    "  backup_cost:'sum'\n",
    "     \n",
    " })\n",
    " df_y=df_y.rename(columns={main_vm:col_no_backup}) \n",
    "  \n",
    "\n",
    " return df_x,df_y\n"
   ]
  },
  {
   "cell_type": "code",
   "execution_count": null,
   "metadata": {},
   "outputs": [],
   "source": [
    "def aggregate_storage_EachCostCenter(df_detail_x,cc_param,size_x,cost_x,model_name):\n",
    " print(f\"Aggregate {model_name} for {cc_param}\")  \n",
    " df_detail_by_cc= df_detail_x.query('cost_center==@cc_param').copy()\n",
    " print(f\"1.Filter {model_name.title()} Storage data by {cc_param}\")   \n",
    " print(df_detail_by_cc.tail(5))\n",
    " \n",
    " print(f\"2.Group {model_name.title()} by {size_x} and {cost_x}\")\n",
    " dfCC_x=df_detail_by_cc.groupby(single_group,as_index=False).agg({\n",
    "  size_x: 'sum' , \n",
    "  cost_x: 'sum'\n",
    " })\n",
    " dfCC_x=dfCC_x.rename(columns={size_x:col_size_storage})     \n",
    " \n",
    " return  dfCC_x\n",
    "\n"
   ]
  },
  {
   "cell_type": "code",
   "execution_count": null,
   "metadata": {},
   "outputs": [],
   "source": [
    "def get_detail(cost_center_name,df_show_detail,x_to_disp_map,x_show_DispCols,x_cost):\n",
    "\n",
    "\n",
    " cc_col=x_to_disp_map['cost_center']\n",
    " # fitter cost !=0\n",
    " df_show_detail=df_show_detail[ (df_show_detail[cc_col]==cost_center_name) & (df_show_detail[x_cost]>0)   ]\n",
    "\n",
    "\n",
    " df_show_detail=df_show_detail.loc[:,x_show_DispCols]\n",
    "\n",
    " df_show_detail = df_show_detail.fillna(\"-\")\n",
    " df_show_detail.set_index(x_to_disp_map[main_vm],inplace=True)\n",
    "\n",
    " df_show_detail=df_show_detail.drop(columns=[cc_col])\n",
    " df_show_detail.reset_index(inplace=True)\n",
    "\n",
    " #print(df_show_detail.info())\n",
    " #print(df_show_detail)\n",
    "\n",
    " return df_show_detail   \n",
    "\n"
   ]
  },
  {
   "cell_type": "code",
   "execution_count": null,
   "metadata": {},
   "outputs": [],
   "source": [
    "cc_dictList=[]\n",
    "for cc_param in cc_List: \n",
    " try:   \n",
    "    \n",
    "  # summarise each one of of cost type  \n",
    "  ecah_cc_info_sr=vm_util.get_cost_center(cc_param,t_id)\n",
    "  #print(ecah_cc_info_sr)\n",
    "  print(f\"####################Start Creating Report For {cc_param}######################################\")\n",
    "  print('Cost Ceneter: ',cc_param)  \n",
    "  \n",
    "  ccSummary_type=[]\n",
    "  ccSummary_cost=[]  \n",
    "    \n",
    "  print(f\"=================================Filter VM and Backup by {cc_param}=============================\")\n",
    "  print(f\"Filter VM data by {cc_param}\")\n",
    "  df_cc_vm= df_detail_vm.query('cost_center==@cc_param').copy()\n",
    "  print(df_cc_vm.tail(10))  \n",
    "  print(f\"Filter Backup data by {cc_param}\")\n",
    "  df_cc_backup= df_detail_backup.query('cost_center==@cc_param').copy()\n",
    "  print(df_cc_backup.tail(10))  \n",
    "\n",
    "  print(f\"Aggregate VM and Backup for {cc_param}\")\n",
    "  dfCC_vm,dfCC_backup=aggregate_vm_backup_EachCostCenter(df_cc_vm,df_cc_backup)  \n",
    "   \n",
    "  print(dfCC_vm)    \n",
    "  if  not dfCC_vm.empty:  \n",
    "     print(\"VM Summary\")    \n",
    "     ccSummary_type.append(smr_vm_cost) \n",
    "     ccSummary_cost.append(dfCC_vm[vm_cost].sum())\n",
    "  else: \n",
    "     print(\"No VM Summary\") \n",
    "\n",
    "    \n",
    "  print(dfCC_backup) \n",
    "  if  not dfCC_backup.empty:  \n",
    "     print(\"Backup Summary\")    \n",
    "     ccSummary_type.append(smr_backup_cost) \n",
    "     ccSummary_cost.append(dfCC_backup[backup_cost].sum())\n",
    "  else:\n",
    "    print(\"No Backup Summary\") \n",
    "    \n",
    "  #=================================Storage=============================  \n",
    "\n",
    "  \n",
    "  if df_detail_storage is not None:  \n",
    "      \n",
    "      df_cc_storage= aggregate_storage_EachCostCenter(df_detail_storage,cc_param,main_storage,storage_cost,netapp_model_name)    \n",
    "      print(df_cc_storage)\n",
    "      if  not df_cc_storage.empty:    \n",
    "         ccSummary_type.append(smr_storage_cost) \n",
    "         ccSummary_cost.append(df_cc_storage[storage_cost].sum())\n",
    "        \n",
    "  else:\n",
    "      print(\"No NetApp Summary\")\n",
    "      df_cc_storage=pd.DataFrame()\n",
    "        \n",
    "  if df_nimble_detail is not None:   \n",
    "      print(\"Nimble Summary\")\n",
    "      df_cc_nimble= aggregate_storage_EachCostCenter(df_nimble_detail,cc_param,nim_storage_size,nim_cost,nim_model_name)    \n",
    "      print(df_cc_nimble)  \n",
    "      if not df_cc_nimble.empty:\n",
    "         ccSummary_type.append(smr_nim_cost) \n",
    "         ccSummary_cost.append(df_cc_nimble[nim_cost].sum())  \n",
    "  else:\n",
    "      print(\"No Nimble Summary\")\n",
    "      df_cc_nimble=pd.DataFrame()\n",
    "        \n",
    "  if    df_primera_detail is not None:   \n",
    "      print(\"Primera Summary\")\n",
    "      df_cc_primera= aggregate_storage_EachCostCenter(df_primera_detail,cc_param,prim_storage_size,prim_cost,prim_model_name)    \n",
    "      print(df_cc_primera)  \n",
    "      if not df_cc_primera.empty:\n",
    "         ccSummary_type.append(smr_prim_cost) \n",
    "         ccSummary_cost.append(df_cc_primera[prim_cost].sum())   \n",
    "  else:\n",
    "     print(\"No Primera Summary\")\n",
    "     df_cc_primera=pd.DataFrame()\n",
    "  \n",
    "  print(\"************************************************\")\n",
    "  print(f\"Summarize Cost By Type For Cost Center {cc_param}\")\n",
    "#   ccSummary_type=[smr_vm_cost,smr_backup_cost,smr_storage_cost]  \n",
    "#   ccSummary_cost=[dfCC_vm[vm_cost].sum(),dfCC_backup[backup_cost].sum(),df_cc_storage[storage_cost].sum()] \n",
    "  dfCC_costTypeSummary=pd.DataFrame(data={name_costType:ccSummary_type,sum_costType:ccSummary_cost})\n",
    "  print(dfCC_costTypeSummary)  \n",
    "    \n",
    "  sumCC_allCostType=dfCC_costTypeSummary[sum_costType].sum()\n",
    "  print(\"Total Cost of \",cc_param,' :',sumCC_allCostType ) \n",
    "\n",
    "  \n",
    "  \n",
    "  #if dfCC_costTypeSummary.iloc[0,1] >0 :\n",
    "  print(f\"List Detail VM  in {cc_param}\") \n",
    "  dfVM_Detail=get_detail(cc_param,df_master_detail,to_disp_map,vm_show_DispCols,vm_cost)  \n",
    "  print(dfVM_Detail.head())\n",
    "\n",
    "    \n",
    "  #if dfCC_costTypeSummary.iloc[1,1] >0 :\n",
    "  print(f\"List Detail Backup in {cc_param}\")\n",
    "  dfBackup_Detail=  get_detail(cc_param,df_master_detail,backup_to_disp_map,backup_show_DispCols,backup_cost)  \n",
    "  print(dfBackup_Detail.head())\n",
    "\n",
    "\n",
    "  # dict to render data in html file\n",
    "  print(f\"Collection data as Dictionary for {cc_param}\")\n",
    "  x_dict= {\n",
    "\n",
    "                 \"CostCenterInfo\":ecah_cc_info_sr,\n",
    "      \n",
    "                 \"Total_AllCost\" :str(sumCC_allCostType) ,\n",
    "                 \"Total_ByCateCost\":dfCC_costTypeSummary ,\n",
    "      \n",
    "                 \"VM_Cost\": dfCC_vm,\n",
    "                 \"Backup_Cost\":dfCC_backup,\n",
    "                 \"Storage_Cost\":df_cc_storage ,\n",
    "                 \"Nimble_Cost\":df_cc_nimble,\n",
    "                 \"Primera_Cost\":df_cc_primera,\n",
    "      \n",
    "                 \"VM_Detail\":dfVM_Detail,\n",
    "                 \"Backup_Detail\":dfBackup_Detail\n",
    "\n",
    "                }\n",
    "  \n",
    "  cc_dictList.append({cc_param:x_dict})\n",
    "    \n",
    "\n",
    "    \n",
    "  print(f\"####################Finished Creating Report For {cc_param}############################\")\n",
    "\n",
    " except Exception as ex:\n",
    "  list_error.append(True)\n",
    "  error_message=f\"Found someting wrong while looping cost center report as detail belows for  {cc_param}\"\n",
    "  print(f'{error_message} :{str(ex)}')   \n",
    "  vm_util.add_error_to_database(20,error_message,t_id)  \n",
    "    "
   ]
  },
  {
   "cell_type": "code",
   "execution_count": null,
   "metadata": {},
   "outputs": [],
   "source": [
    "check_error_point(t_id)\n",
    "print(\"======================Completed to create each cost center report=============================\")"
   ]
  },
  {
   "cell_type": "markdown",
   "metadata": {},
   "source": [
    "# Completed Transaction"
   ]
  },
  {
   "cell_type": "code",
   "execution_count": null,
   "metadata": {},
   "outputs": [],
   "source": [
    "try: \n",
    "\n",
    "    updated_rows=vm_util.created_transaction(t_id)\n",
    "    print(\"completed building billing data\")\n",
    "    \n",
    "except Exception as ex:\n",
    "    list_error.append(True)\n",
    "    print(ex)\n",
    "    \n",
    "check_error_point(t_id)"
   ]
  },
  {
   "cell_type": "code",
   "execution_count": null,
   "metadata": {},
   "outputs": [],
   "source": [
    "#return overview_dict,cc_dictList"
   ]
  },
  {
   "cell_type": "code",
   "execution_count": null,
   "metadata": {},
   "outputs": [],
   "source": []
  }
 ],
 "metadata": {
  "kernelspec": {
   "display_name": "Python 3",
   "language": "python",
   "name": "python3"
  },
  "language_info": {
   "codemirror_mode": {
    "name": "ipython",
    "version": 3
   },
   "file_extension": ".py",
   "mimetype": "text/x-python",
   "name": "python",
   "nbconvert_exporter": "python",
   "pygments_lexer": "ipython3",
   "version": "3.8.5"
  }
 },
 "nbformat": 4,
 "nbformat_minor": 4
}
