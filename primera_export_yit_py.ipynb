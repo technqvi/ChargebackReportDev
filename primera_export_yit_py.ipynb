{
 "cells": [
  {
   "cell_type": "code",
   "execution_count": null,
   "metadata": {},
   "outputs": [],
   "source": [
    "from hpe3parclient import client, exceptions\n",
    "import urllib3\n",
    "import pandas as pd\n",
    "import chargeback_rpt.vm_data_utility as vm_util\n",
    "import os"
   ]
  },
  {
   "cell_type": "code",
   "execution_count": null,
   "metadata": {},
   "outputs": [],
   "source": [
    "primeraArray = '0.0.0.0'\n",
    "primeraUsername = 'xxxx'\n",
    "primeraPassword = 'yyyy'\n",
    "\n",
    "\n",
    "primera_path=r'D:\\ChargeBackApp\\import_data\\process_import\\Primera_Export.csv'\n",
    "set_name='chargeback-vols'\n",
    "\n",
    "col1='set_name'\n",
    "col2='name'\n",
    "col3='totalUsedMiB'\n",
    "col4='comment'\n",
    "col_listVol='setmembers'\n",
    "col_countVol='count'\n",
    "\n",
    "api = client.HPE3ParClient(f\"https://{primeraArray}/api/v1\")\n",
    "api.login(primeraUsername, primeraPassword)\n"
   ]
  },
  {
   "cell_type": "code",
   "execution_count": null,
   "metadata": {},
   "outputs": [],
   "source": [
    "try:\n",
    "\n",
    " set_obj = api.getVolumeSet(set_name)\n",
    " print(set_obj)\n",
    " if set_obj[col_countVol] ==0:   \n",
    "#    with open(primera_path, 'w') as fp:\n",
    "#      pass\n",
    "   df_primera = pd.DataFrame(columns=['set_name','name','totalUsedMiB','comment'])\n",
    "   df_primera.to_csv(primera_path,index=False) \n",
    "   #create empty file using dataframe , the size is more than 1  \n",
    "    \n",
    "\n",
    " else:\n",
    "    \n",
    "    vol_members=set_obj[col_listVol]\n",
    "    df_primera=pd.DataFrame(columns=[col1,col2,col3,col4])\n",
    "    \n",
    "    for vol_name in vol_members:\n",
    "        \n",
    "      vol_obj=api.getVolume(vol_name)\n",
    "      df_primera = df_primera.append({col1: set_name, col2: vol_obj[col2], col3: vol_obj[col3],col4:vol_obj[col4]}\n",
    "                                   , ignore_index=True)\n",
    "    print(df_primera)   \n",
    "        \n",
    "    df_primera.to_csv(primera_path,index=False)   \n",
    "\n",
    "    \n",
    "except Exception as ex:\n",
    " print(str(ex))\n",
    " vm_util.add_error_to_specific_file(str(ex),'log_error_primera.txt')\n",
    " \n"
   ]
  },
  {
   "cell_type": "code",
   "execution_count": null,
   "metadata": {},
   "outputs": [],
   "source": []
  },
  {
   "cell_type": "code",
   "execution_count": null,
   "metadata": {},
   "outputs": [],
   "source": []
  }
 ],
 "metadata": {
  "kernelspec": {
   "display_name": "Python 3",
   "language": "python",
   "name": "python3"
  },
  "language_info": {
   "codemirror_mode": {
    "name": "ipython",
    "version": 3
   },
   "file_extension": ".py",
   "mimetype": "text/x-python",
   "name": "python",
   "nbconvert_exporter": "python",
   "pygments_lexer": "ipython3",
   "version": "3.8.5"
  },
  "vscode": {
   "interpreter": {
    "hash": "ae9335fe7a39c1d8f8945c5adbecc2ba1b1578dde5a497790f7db495f2189193"
   }
  }
 },
 "nbformat": 4,
 "nbformat_minor": 4
}
