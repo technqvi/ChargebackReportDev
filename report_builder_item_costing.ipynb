{
 "cells": [
  {
   "cell_type": "code",
   "execution_count": null,
   "metadata": {},
   "outputs": [],
   "source": [
    "import chargeback_rpt.db_postgres_command as db_command\n",
    "\n",
    "import chargeback_rpt.vm_data_utility as vm_util\n",
    "import chargeback_rpt.vm_data_charger as vc\n",
    "import chargeback_rpt.email_notifier as x_mail\n",
    "import chargeback_rpt.file_directory_manager as fd_mn\n",
    "import chargeback_rpt.vm_data_charger as charger\n",
    "\n",
    "import pandas as pd\n",
    "import numpy as np\n",
    "import datetime  \n",
    "import calendar\n",
    "import os\n",
    "\n",
    "from jinja2 import Environment, FileSystemLoader\n",
    "from weasyprint import HTML\n",
    "import sys "
   ]
  },
  {
   "cell_type": "code",
   "execution_count": null,
   "metadata": {},
   "outputs": [],
   "source": [
    "run_py=False\n",
    "\n",
    "is_monthly=True\n",
    "\n",
    "fix_mmyy=False\n",
    "\n",
    "x_unit_str='GB'\n",
    "\n",
    "table_vm=\"report_storeonce_info\"\n",
    "xcol_vm=\"catalyst_name\"\n",
    "\n",
    "storeonce_cost_key= 'storeonce'\n",
    "storeonce_cost='Cost(฿)'\n",
    "\n",
    "storeonce_Total='TotalSize'\n",
    "storeonce_Usage='UsageSize'\n",
    "\n",
    "jobType=13  # Import StoreOnce\n",
    "\n",
    "\n",
    "all_cols=['id','catalyst_name','site_name','created_date','user_size','disk_size','price_thb_month_gb','cost','month','year']\n",
    "pdfReport_cols=['site_name','disk_size','cost']\n",
    "pdfReportBySite_cols=['site_name','user_size','disk_size','cost']\n",
    "\n",
    "numberic_cols=['user_size','disk_size','cost','vat','total_cost']\n",
    "\n",
    "\n",
    "\n",
    "overview_dict={}\n"
   ]
  },
  {
   "cell_type": "code",
   "execution_count": null,
   "metadata": {},
   "outputs": [],
   "source": [
    "\n",
    "\n",
    "x_datenow=datetime.datetime.now()\n",
    "month_x=x_datenow.strftime('%m')\n",
    "year_x=x_datenow.strftime('%Y')\n",
    "\n",
    "if fix_mmyy:\n",
    " month_param='09'\n",
    " year_param='2022'\n",
    "else:\n",
    " month_param=month_x\n",
    " year_param=year_x"
   ]
  },
  {
   "cell_type": "code",
   "execution_count": null,
   "metadata": {},
   "outputs": [],
   "source": [
    "if  run_py:\n",
    "\n",
    "    press_y='n'\n",
    "    ok=False\n",
    "    \n",
    "    if len(sys.argv) > 1:\n",
    "        if sys.argv[1]=='0'  and sys.argv[2]=='0':\n",
    "         month_param=month_x\n",
    "         year_param=year_x \n",
    "         ok=True   \n",
    "         is_only_check_data=bool(int(sys.argv[3]))\n",
    "        else:\n",
    "         raise Exception(\"Specify 0 0 as arguments only\")   \n",
    "    else:\n",
    "        print(\"If you want current month and year.Press Enter \")\n",
    "        month_param = int(input(\"Enter the month (1-12) : \") or month_x)\n",
    "        year_param = int(input(\"Enter the year(such as 2021,2022,2023...) : \") or year_x)\n",
    "        print(f\"Do for month={month_param} and year={year_param}\")\n",
    "        press_y=input(f\"Press y=True and n=False : \") \n",
    "        if press_y.lower()=='y':\n",
    "         ok=True\n",
    "\n",
    "\n",
    "    if ok==True:\n",
    "        try:\n",
    "         report_dt= datetime.datetime(int(year_param), int(month_param), 1)\n",
    "         print(report_dt)   \n",
    "         month_param=report_dt.strftime('%m')\n",
    "         year_param=report_dt.strftime('%Y')   \n",
    "\n",
    "    #      n = len(sys.argv) \n",
    "    #      print(\"Total arguments passed:\", n) \n",
    "    #      for  param in  sys.argv:\n",
    "    #        print(param)\n",
    "\n",
    "        except Exception as ex:\n",
    "         print(ex)   \n",
    "         raise ex\n",
    "    else:\n",
    "         quit()"
   ]
  },
  {
   "cell_type": "code",
   "execution_count": null,
   "metadata": {},
   "outputs": [],
   "source": [
    "folder_prefix_report='storeonce_chargeback'\n",
    "excel_prefix_report='Storeonce_Detail'\n",
    "pdf_overview_prefix='Overview_StoreOnce_Chargeback'\n",
    "\n",
    "bill_info_sr=None"
   ]
  },
  {
   "cell_type": "markdown",
   "metadata": {},
   "source": [
    "#def  storeonce_monthly_report(month_param,year_param,bill_info_sr=None,is_monthly=True):"
   ]
  },
  {
   "cell_type": "markdown",
   "metadata": {},
   "source": [
    "# Start Transaction"
   ]
  },
  {
   "cell_type": "code",
   "execution_count": null,
   "metadata": {},
   "outputs": [],
   "source": [
    "t_id=vm_util.creating_transaction(14,month_param,year_param)\n",
    "print(f\"Transaction ID: {t_id}\")\n",
    "\n",
    "list_error=[]\n",
    "print(list_error)\n",
    "\n",
    "# Move  to util\n",
    "def check_error_point(tran_id,is_mail_module=True):\n",
    "  print(list_error)\n",
    "  if True in list_error:\n",
    "\n",
    "    # if errror was given from sub-system, we will let sub-system send error eamail by themselves      \n",
    "    if  is_mail_module==True:\n",
    "     vm_util.collect_error_to_sent_mail(tran_id) \n",
    "    \n",
    "    print(\"Building StoreOnce report occured error\") \n",
    "    raise Exception(\"Program is teminated and check error from email and log_error.txt\")\n",
    "    \n",
    "  list_error.clear()\n",
    "  print(list_error)   "
   ]
  },
  {
   "cell_type": "markdown",
   "metadata": {},
   "source": [
    "# Check proper data in order to enable buiding report"
   ]
  },
  {
   "cell_type": "code",
   "execution_count": null,
   "metadata": {},
   "outputs": [],
   "source": [
    "print(\"Check proper data in order to enable the system to buid report\")\n",
    "def error_text(product, table,type_error):\n",
    "    if  type_error==1:\n",
    "     return f'{product} error due to Either no the complete job OR no row in {table} For  Month-{month_param} and Year-{year_param}.<br>'\n",
    "    else:\n",
    "     return f'{product} error due to no the complete job For  Month-{month_param} and Year-{year_param}.<br>'   \n",
    "def check_valid_data_to_build_report():\n",
    "    listErrorsBuidReport=[]\n",
    "    \n",
    "    job=charger.get_last_complete_job(month_param,year_param,jobType)\n",
    "    print('StoreOnce Complete Job\\n',job)\n",
    "    if (job is not None) and (len(job)>0):\n",
    "        vm_row=charger.check_existing_one_info('report_storeonce_info',month_param,year_param)\n",
    "        print(f'Found at lest one row in StoreOnce For  Month-{month_param} and Year-{year_param}')\n",
    "        listErrorsBuidReport.append(None)\n",
    "    else:\n",
    "        listErrorsBuidReport.append(error_text('StoreOnce','report_storeonce_info',1)); \n",
    "    return listErrorsBuidReport    \n",
    "    \n",
    "listErrorsBuidReport=check_valid_data_to_build_report()\n",
    "list_errors= [ error for error in listErrorsBuidReport if  error is not None ] \n",
    "if len(list_errors)>0:\n",
    " for error in list_errors: \n",
    "    vm_util.add_error_to_database(24,error,t_id)\n",
    "\n",
    " vm_util.collect_error_to_sent_mail(t_id)    \n",
    " print(\"Building report occured error\")  \n",
    " raise Exception((' ').join(list_errors))\n",
    " quit()\n",
    "   \n"
   ]
  },
  {
   "cell_type": "code",
   "execution_count": null,
   "metadata": {},
   "outputs": [],
   "source": [
    "# filename_detail=f'StoreOnce_Chargeback_Detail_{month_param}-{year_param}.xlsx'\n",
    "# file_detail_report=os.path.join(report_path,filename_detail)"
   ]
  },
  {
   "cell_type": "markdown",
   "metadata": {},
   "source": [
    "# load configuation data  by getting from database and Initialize  value  and set folder for building Report"
   ]
  },
  {
   "cell_type": "code",
   "execution_count": null,
   "metadata": {},
   "outputs": [],
   "source": [
    "def clear_folder_after_complete(x_is_completed,x_is_monthly,x_zip_folder_path,x_report_path):\n",
    "    \n",
    " fd_mn.delete_entire_directory(x_zip_folder_path)   \n",
    "  \n",
    " if x_is_monthly == False:\n",
    "  fd_mn.delete_entire_directory(x_report_path)\n",
    " else:\n",
    "   if x_is_completed ==False    : \n",
    "     fd_mn.delete_entire_directory(x_report_path)"
   ]
  },
  {
   "cell_type": "code",
   "execution_count": null,
   "metadata": {},
   "outputs": [],
   "source": [
    "try:\n",
    "    print(\"Load configuation data  by getting from database and Initialize  value \")\n",
    "    type_to_zip=vm_util.get_config_value('report_file_type',t_id).split(',')\n",
    "    print(f\"report file type: {type_to_zip}\")\n",
    "\n",
    "    temp_path=vm_util.get_config_value('temp_path',t_id)\n",
    "    print(f\"temp_path: {temp_path}\")\n",
    "\n",
    "    if is_monthly == True:\n",
    "     report_rootpath = vm_util.get_config_value('report_storeonce_rootpath',t_id)\n",
    "     report_folder=f'{month_param}-{year_param}'\n",
    "     zip_filename= f'{folder_prefix_report}_{month_param}-{year_param}.zip'    \n",
    "    else:\n",
    "     report_rootpath =temp_path\n",
    "     report_folder=f\"storeonce_report_temp_{datetime.datetime.now().strftime('%d-%m-%y_%H%M%S')}\"\n",
    "     zip_filename= f\"{folder_prefix_report}_{month_param}-{year_param}_{datetime.datetime.now().strftime('%d-%m-%y_%H%M%S')}.zip\" \n",
    "\n",
    "\n",
    "    print(report_rootpath)   \n",
    "    print(report_folder)\n",
    "    print(zip_filename)\n",
    "    \n",
    "    \n",
    "    overview_templateName=vm_util.get_config_value('storeonce_overview_template_path',t_id)\n",
    "    site_templateName=vm_util.get_config_value('storeonce_site_template_path',t_id)\n",
    "\n",
    "    overview_css_file=vm_util.get_config_value('css_file_path',t_id)\n",
    "    css_file=vm_util.get_config_value('storeonce_css_file_path',t_id)\n",
    "\n",
    "    img_file=vm_util.get_config_value('logo_png_path',t_id)\n",
    "    overview_dict['Report_Logo']=img_file\n",
    "\n",
    "    print(overview_templateName)\n",
    "    print(site_templateName)\n",
    "    print(overview_css_file)\n",
    "    print(css_file)\n",
    "    print(img_file)\n",
    "\n",
    "    \n",
    "except Exception as ex:\n",
    "    list_error.append(True)\n",
    "    print(str(ex))\n",
    "    vm_util.add_error_to_database(3,str(ex),t_id)  "
   ]
  },
  {
   "cell_type": "code",
   "execution_count": null,
   "metadata": {},
   "outputs": [],
   "source": [
    "try:\n",
    "\n",
    "    print(\"Create report folder & file Name\")\n",
    "    report_path=os.path.join(report_rootpath,report_folder)\n",
    "    print(report_path)\n",
    "    fd_mn.create_directory(report_path)\n",
    "\n",
    "    filename_detail=f'{excel_prefix_report}_{month_param}-{year_param}.xlsx'\n",
    "    file_detail_report=os.path.join(report_path,filename_detail)\n",
    "    print(file_detail_report)\n",
    "\n",
    "    overview_pdf=os.path.join(report_path,f'{pdf_overview_prefix}_{month_param}-{year_param}.pdf')\n",
    "    print(overview_pdf)\n",
    "\n",
    "except Exception as ex:\n",
    "    list_error.append(True)\n",
    "    print(str(ex))\n",
    "    vm_util.add_error_to_database(21,str(ex),t_id)\n",
    "\n",
    "check_error_point(t_id)\n"
   ]
  },
  {
   "cell_type": "markdown",
   "metadata": {},
   "source": [
    "# Calculate StoreOnce cost\n"
   ]
  },
  {
   "cell_type": "code",
   "execution_count": null,
   "metadata": {},
   "outputs": [],
   "source": [
    "def master_item_cost(cost_key):\n",
    " try:\n",
    "    # focusing on column_table_name,field_source_name\n",
    "    sql_cmd=\"select * from master_item_cost where cost_key =(%s) \"\n",
    "    sql_params=(cost_key,)\n",
    "    item=db_command.get_one_sql(db_command.get_postgres_conn(),sql_cmd,sql_params)\n",
    "    if item is not None:\n",
    "     sr_fieldInfo=pd.Series(item)\n",
    "     return sr_fieldInfo\n",
    "    else:\n",
    "        return None\n",
    " except Exception as error:\n",
    "     #raise  error\n",
    "     return None\n",
    "\n",
    "\n"
   ]
  },
  {
   "cell_type": "code",
   "execution_count": null,
   "metadata": {},
   "outputs": [],
   "source": [
    "def list_sites(siteList):\n",
    " try:\n",
    "\n",
    "     sql=\"select * from site_info where site_name in  %(siteList_param)s \"   \n",
    "     paramx=  {\"siteList_param\":tuple(siteList)}\n",
    "     valx=db_command.get_list_sql(db_command.get_postgres_conn(),sql,paramx)\n",
    "     if(valx is not None):\n",
    "      df=pd.DataFrame(valx)\n",
    "      return df\n",
    "     else:\n",
    "      error_message = f'not found some site  in {siteList}'\n",
    "      print(error_message)\n",
    "      vm_util.add_error_to_database(25, error_message, t_id)\n",
    "      raise Exception(error_message)\n",
    " except Exception as error:\n",
    "      raise  error\n",
    "      # return None"
   ]
  },
  {
   "cell_type": "code",
   "execution_count": null,
   "metadata": {},
   "outputs": [],
   "source": [
    "print(\"Calculate StoreOnce cost\")\n",
    "\n",
    "\n",
    "storeonce_cost_item=master_item_cost(storeonce_cost_key)\n",
    "cost_unit=storeonce_cost_item['cost_unit']\n",
    "\n",
    "vax_cal_percent=float(vm_util.get_config_value('vax_cal_percent',transaction_id=t_id))\n",
    "\n",
    "print(f\"Cost Unit = {cost_unit} and percent vat ={vax_cal_percent} %\")\n",
    "\n",
    "\n",
    "dfx=vc.list_x_info(table_vm,xcol_vm,month_param,year_param)\n",
    "dfx[f'price_thb_month_{x_unit_str.lower()}']=cost_unit\n",
    "dfx['cost']=dfx['disk_size']*cost_unit\n",
    "dfx['percent_vat']=vax_cal_percent\n",
    "\n",
    "dfx['vat']=dfx['cost']*(dfx['percent_vat']/100)\n",
    "dfx['vat']=dfx['vat'].round(2)\n",
    "\n",
    "dfx['total_cost']=dfx['cost']+dfx['vat']\n",
    "\n",
    "# dfx[numberic_cols]=dfx[numberic_cols].round(2)\n",
    "\n",
    "\n",
    "\n",
    "siteList=dfx['catalyst_name'].unique()\n",
    "dfSite=list_sites(siteList)\n",
    "dfSite"
   ]
  },
  {
   "cell_type": "code",
   "execution_count": null,
   "metadata": {},
   "outputs": [],
   "source": [
    "dfx=dfx.merge(dfSite[[\"site_name\",\"site_full_name\"]],how='left',left_on='catalyst_name',right_on='site_name')\n",
    "dfx['site_name']=dfx['site_full_name']\n",
    "dfx=dfx.drop(columns=['site_full_name','id','import_date'])\n",
    "\n",
    "print(dfx.info())\n",
    "dfx"
   ]
  },
  {
   "cell_type": "markdown",
   "metadata": {},
   "source": [
    "# Create Detail Report of StoreOnce as Excel file"
   ]
  },
  {
   "cell_type": "code",
   "execution_count": null,
   "metadata": {},
   "outputs": [],
   "source": [
    "try:\n",
    "    print(\"Create Detail Report of StoreOnce as Excel file\")\n",
    "    writer=pd.ExcelWriter(file_detail_report,engine='xlsxwriter')\n",
    "    dfx.to_excel(writer, sheet_name='storeonce_detail',index=False)\n",
    "    writer.save()\n",
    "\n",
    "except Exception as ex:\n",
    "    list_error.append(True)\n",
    "    print(str(ex))\n",
    "    vm_util.add_error_to_database(24,str(ex),t_id)   "
   ]
  },
  {
   "cell_type": "markdown",
   "metadata": {},
   "source": [
    "# Create Overview Report of StoreOnce"
   ]
  },
  {
   "cell_type": "code",
   "execution_count": null,
   "metadata": {},
   "outputs": [],
   "source": [
    "print(\"Create Overview Report of StoreOnce as Pdf file\")"
   ]
  },
  {
   "cell_type": "code",
   "execution_count": null,
   "metadata": {},
   "outputs": [],
   "source": [
    "bill_info_sr=vm_util.get_initial_bill_info(int(month_param),int(year_param),t_id)\n",
    "overview_dict['BillInfo']=bill_info_sr\n",
    "\n",
    "overview_site=vm_util.get_config_value(\"main_cost_center\",t_id)\n",
    "cc_info_sr=vm_util.get_cost_center(overview_site,t_id)\n",
    "overview_dict[\"CostCenterInfo\"]=cc_info_sr"
   ]
  },
  {
   "cell_type": "code",
   "execution_count": null,
   "metadata": {},
   "outputs": [],
   "source": [
    "df_pdf_overview=dfx[pdfReport_cols]\n",
    "df_pdf_overview"
   ]
  },
  {
   "cell_type": "code",
   "execution_count": null,
   "metadata": {},
   "outputs": [],
   "source": [
    "overview_dict['AllSites_Catalyst']=df_pdf_overview\n",
    "overview_dict['Total_AllCost']=df_pdf_overview['cost'].sum()"
   ]
  },
  {
   "cell_type": "code",
   "execution_count": null,
   "metadata": {},
   "outputs": [],
   "source": [
    "print(\"Print Overview Report\")\n",
    "overview_html=vm_util.get_content_template(overview_templateName,overview_dict, tran_id=t_id)\n",
    "HTML(string=overview_html).write_pdf(overview_pdf,stylesheets=[overview_css_file])"
   ]
  },
  {
   "cell_type": "markdown",
   "metadata": {},
   "source": [
    "# Create Each Site of Report as Pdf file"
   ]
  },
  {
   "cell_type": "code",
   "execution_count": null,
   "metadata": {},
   "outputs": [],
   "source": [
    "print(\"Create Each Site of Report as Pdf file\")"
   ]
  },
  {
   "cell_type": "code",
   "execution_count": null,
   "metadata": {},
   "outputs": [],
   "source": [
    "def get_storeonce_constant_val_report():\n",
    " try:\n",
    "     sql=\"select * from storeonce_constant_val_report\"\n",
    "     valx=db_command.get_list_sql(db_command.get_postgres_conn(),sql,None)\n",
    "     if(valx is not None):\n",
    "      df=pd.DataFrame(valx)\n",
    "      return df\n",
    "     else:\n",
    "      error_message = f'not found data in from storeonce_constant_val_report'\n",
    "      print(error_message)\n",
    "      add_error_to_database(25, error_message, t_id)\n",
    "      raise Exception(error_message)\n",
    " except Exception as error:\n",
    "      raise  error\n",
    "dfConstDataReport= get_storeonce_constant_val_report()\n",
    "dfConstDataReport.set_index('key',inplace=True)\n",
    "constDataReport_sr=dfConstDataReport['value']\n",
    "constDataReport_sr"
   ]
  },
  {
   "cell_type": "code",
   "execution_count": null,
   "metadata": {},
   "outputs": [],
   "source": [
    "def get_site_info(site_name,transaction_id):\n",
    " try:\n",
    "#      site_name_upper = site_name.replace(' ', '').upper()\n",
    "     site_name_upper = site_name.upper()\n",
    "     sql=\"select * from site_info where upper(site_name)=(%s)\"\n",
    "     paramx=( site_name_upper,)\n",
    "     valx=db_command.get_one_sql(db_command.get_postgres_conn(),sql,paramx)\n",
    "     if(valx is not None):\n",
    "      sr=pd.Series(valx)\n",
    "      print(sr) \n",
    "      return sr\n",
    "     else:\n",
    "      error_message = f'not found:{site_name}'\n",
    "      print(error_message)\n",
    "      add_error_to_database(25, error_message, transaction_id)\n",
    "      raise Exception(error_message)\n",
    " except Exception as error:\n",
    "      raise  error\n",
    "      # return None"
   ]
  },
  {
   "cell_type": "code",
   "execution_count": null,
   "metadata": {},
   "outputs": [],
   "source": [
    "#pdfReportBySite_cols=['catalyst_name','user_size','disk_size','cost']\n",
    "count_item=1\n",
    "for index,item in dfx.iterrows():\n",
    "    \n",
    "    site_catalyst=item['catalyst_name']\n",
    "\n",
    "    site_info_sr=(dfSite.query('site_name==@site_catalyst')).iloc[0,:]\n",
    "#     print(site_info_sr)\n",
    "    \n",
    "    site_dict={'Report_Logo':img_file,'ConstDataReport':constDataReport_sr,\n",
    "               'SiteInfo':site_info_sr , 'BillInfo':bill_info_sr,\n",
    "               'ItemInfo':item\n",
    "    }\n",
    "    # Test price all value to print out as pdf\n",
    "#     if count_item==1:\n",
    "    #         for key,value in site_dict.items():   \n",
    "    #             print(f\"===================================={key}====================================\")\n",
    "    #             print(value)\n",
    "\n",
    "    print(f\"Print Report of {site_catalyst}\")\n",
    "    site_pdf=os.path.join(report_path,f'{site_catalyst}_{month_param}-{year_param}.pdf')\n",
    "    print(site_pdf)\n",
    "\n",
    "    site_html=vm_util.get_content_template(site_templateName,site_dict, tran_id=t_id)\n",
    "#         print(site_html)\n",
    "    \n",
    "    HTML(string=site_html).write_pdf(site_pdf,stylesheets=[css_file])\n",
    "    count_item+=1\n",
    "\n"
   ]
  },
  {
   "cell_type": "code",
   "execution_count": null,
   "metadata": {},
   "outputs": [],
   "source": []
  },
  {
   "cell_type": "markdown",
   "metadata": {},
   "source": [
    "# Create Zip Tile "
   ]
  },
  {
   "cell_type": "code",
   "execution_count": null,
   "metadata": {},
   "outputs": [],
   "source": [
    "try:\n",
    "    print(\"Create Zip to acttach file on email\")\n",
    "    zip_folder_name=f\"zip_report_{datetime.datetime.now().strftime('%d-%m-%y_%H%M%S')}\"\n",
    "    zip_folder_path = os.path.join(temp_path,zip_folder_name) \n",
    "\n",
    "\n",
    "    result_os=fd_mn.create_directory(zip_folder_path)\n",
    "\n",
    "    zip_temp_file = os.path.join(zip_folder_path,zip_filename)  \n",
    "    type_to_zip=['.pdf','.xlsx']\n",
    "\n",
    "    print(zip_temp_file)   \n",
    "    result_os=fd_mn.make_zip(report_path,type_to_zip,zip_temp_file)\n",
    "    print(result_os)  \n",
    "\n",
    "except Exception as ex:\n",
    "     list_error.append(True)\n",
    "     print(str(ex))   \n",
    "     vm_util.add_error_to_database(24,str(ex),t_id)  \n",
    "        \n",
    "\n",
    "check_error_point(t_id)"
   ]
  },
  {
   "cell_type": "markdown",
   "metadata": {},
   "source": [
    "# Email Notification"
   ]
  },
  {
   "cell_type": "code",
   "execution_count": null,
   "metadata": {},
   "outputs": [],
   "source": [
    "print(\"Send mail\")\n",
    "#required_keys=['email_type','transaction_id','attached_file_path','content_data_dict']\n",
    "try:\n",
    " content_data_dict= {\n",
    "                 \"ContentTitle\":\"List All StoreOnce Report in AttachedFile\",\n",
    "                }\n",
    " ok= x_mail.send_email(email_type='report_storeonce',transaction_id=t_id,\n",
    "                 attached_file_path=zip_temp_file,content_data_dict=content_data_dict)\n",
    "\n",
    "except Exception as ex:\n",
    " print(str(ex))   \n",
    " list_error.append(True)\n",
    " # delelte all folder\n",
    " clear_folder_after_complete(False,is_monthly,zip_folder_path,report_path)\n",
    "\n",
    "\n",
    "check_error_point(t_id,False) "
   ]
  },
  {
   "cell_type": "markdown",
   "metadata": {},
   "source": [
    "# Delete temp folder report"
   ]
  },
  {
   "cell_type": "code",
   "execution_count": null,
   "metadata": {},
   "outputs": [],
   "source": [
    "def clear_folder_after_complete(x_is_completed,x_is_monthly,x_zip_folder_path,x_report_path):\n",
    "    \n",
    " fd_mn.delete_entire_directory(x_zip_folder_path)   \n",
    "  \n",
    " if x_is_monthly == False:\n",
    "  fd_mn.delete_entire_directory(x_report_path)\n",
    " else:\n",
    "   if x_is_completed ==False    : \n",
    "     fd_mn.delete_entire_directory(x_report_path)\n",
    "        \n",
    "print(\"Delete temp folder and zip report\")\n",
    "clear_folder_after_complete(True,is_monthly,zip_folder_path,report_path)"
   ]
  },
  {
   "cell_type": "markdown",
   "metadata": {},
   "source": [
    "# Completed Transaction"
   ]
  },
  {
   "cell_type": "code",
   "execution_count": null,
   "metadata": {},
   "outputs": [],
   "source": [
    "try: \n",
    "\n",
    "    updated_rows=vm_util.created_transaction(t_id)\n",
    "    print(\"completed building report\")\n",
    "    \n",
    "except Exception as ex:\n",
    "    list_error.append(True)\n",
    "    print(ex)\n",
    "    \n",
    "check_error_point(t_id)"
   ]
  },
  {
   "cell_type": "code",
   "execution_count": null,
   "metadata": {},
   "outputs": [],
   "source": []
  },
  {
   "cell_type": "code",
   "execution_count": null,
   "metadata": {},
   "outputs": [],
   "source": []
  }
 ],
 "metadata": {
  "kernelspec": {
   "display_name": "Python 3",
   "language": "python",
   "name": "python3"
  },
  "language_info": {
   "codemirror_mode": {
    "name": "ipython",
    "version": 3
   },
   "file_extension": ".py",
   "mimetype": "text/x-python",
   "name": "python",
   "nbconvert_exporter": "python",
   "pygments_lexer": "ipython3",
   "version": "3.8.5"
  }
 },
 "nbformat": 4,
 "nbformat_minor": 4
}
