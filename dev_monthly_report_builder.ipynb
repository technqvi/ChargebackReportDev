{
 "cells": [
  {
   "cell_type": "code",
   "execution_count": null,
   "metadata": {},
   "outputs": [],
   "source": [
    "from __future__ import print_function\n",
    "\n",
    "import   chargeback_rpt.report_builder_costing as costing_rpt\n",
    "import   chargeback_rpt.report_builder_billing as billing_rpt\n",
    "import chargeback_rpt.vm_data_charger as charger\n",
    "import chargeback_rpt.vm_data_utility as vm_util\n",
    "import chargeback_rpt.email_notifier as x_mail\n",
    "import chargeback_rpt.vm_data_validator as vx\n",
    "import chargeback_rpt.file_directory_manager as fd_mn\n",
    "import datetime\n",
    "import pandas as pd\n",
    "\n",
    "import os\n",
    "import sys"
   ]
  },
  {
   "cell_type": "code",
   "execution_count": null,
   "metadata": {},
   "outputs": [],
   "source": [
    "\n",
    "from jinja2 import Environment, FileSystemLoader\n",
    "\n",
    "from weasyprint import HTML"
   ]
  },
  {
   "cell_type": "code",
   "execution_count": null,
   "metadata": {},
   "outputs": [],
   "source": [
    "#Paramter \n",
    "month_param='09'\n",
    "year_param='2022'\n",
    "bill_info_sr=None\n",
    "is_monthly=True\n"
   ]
  },
  {
   "cell_type": "code",
   "execution_count": null,
   "metadata": {},
   "outputs": [],
   "source": [
    "#def  create_monthly_report(month_param,year_param,bill_info_sr=None,is_monthly=True):"
   ]
  },
  {
   "cell_type": "markdown",
   "metadata": {},
   "source": [
    "# Start Transaction"
   ]
  },
  {
   "cell_type": "code",
   "execution_count": null,
   "metadata": {},
   "outputs": [],
   "source": [
    "t_id=vm_util.creating_transaction(5,month_param,year_param)\n",
    "print(f\"Transaction ID: {t_id}\")\n",
    "\n",
    "list_error=[]\n",
    "print(list_error)\n",
    "\n",
    "# Move  to util\n",
    "def check_error_point(tran_id,is_mail_module=True):\n",
    "  print(list_error)\n",
    "  if True in list_error:\n",
    "\n",
    "    # if errror was given from sub-system, we will let sub-system send error eamail by themselves      \n",
    "    if  is_mail_module==True:\n",
    "     vm_util.collect_error_to_sent_mail(tran_id) \n",
    "    \n",
    "    print(\"Building report occured error\") \n",
    "    raise Exception(\"Program is teminated and check error from email and log_error.txt\")\n",
    "    \n",
    "  list_error.clear()\n",
    "  print(list_error)   "
   ]
  },
  {
   "cell_type": "markdown",
   "metadata": {},
   "source": [
    "# Check proper data in order to enable buiding report"
   ]
  },
  {
   "cell_type": "code",
   "execution_count": null,
   "metadata": {},
   "outputs": [],
   "source": [
    "print(\"Check proper data in order to enable the system to buid report\")\n",
    "def error_text(product, table,type_error):\n",
    "\n",
    "    if  type_error==1:\n",
    "     return f'{product} error due to Either no the complete job OR no row in {table} For  Month-{month_param} and Year-{year_param}.<br>'\n",
    "    else:\n",
    "     return f'{product} error due to no the complete job For  Month-{month_param} and Year-{year_param}.<br>'   \n",
    "\n",
    "def check_valid_data_to_build_report():\n",
    "    list_errors=[]\n",
    "    \n",
    "    # vm \n",
    "    vm_jobType=1\n",
    "    vm_job=charger.get_last_complete_job(month_param,year_param,vm_jobType)\n",
    "    print('VM Complete Job\\n',vm_job)\n",
    "    if (vm_job is not None) and (len(vm_job)>0):\n",
    "        vm_row=charger.check_existing_one_info('report_vm_info',month_param,year_param)\n",
    "        print(f'Found at lest one row in VM For  Month-{month_param} and Year-{year_param}')\n",
    "        list_errors.append(None);\n",
    "    else:\n",
    "       list_errors.append(error_text('VM','report_vm_info',1)); \n",
    "    \n",
    "    print(\"========================================================\")\n",
    "    \n",
    "    netapp_jobType=2\n",
    "    netapp_job=charger.get_last_complete_job(month_param,year_param,netapp_jobType)\n",
    "    print('NetApp Complete Job\\n',netapp_job)\n",
    "    if (netapp_job is not None) and (len(netapp_job)>0):\n",
    "        netapp_row=charger.check_existing_one_info('report_storage_info',month_param,year_param)\n",
    "        print(f'Found at lest one row in NetApp For  Month-{month_param} and Year-{year_param}')\n",
    "        list_errors.append(None);\n",
    "    else:\n",
    "       list_errors.append(error_text('NetApp','report_storage_info',1));\n",
    "    print(\"========================================================\")\n",
    "    \n",
    "    nim_jobType=6\n",
    "    nim_job=charger.get_last_complete_job(month_param,year_param,nim_jobType)\n",
    "    print('Nimble Complete Job\\n',nim_job)\n",
    "    if (nim_job is not None) and (len(nim_job)>0):\n",
    "        nim_row=charger.check_existing_one_info('report_nimble_info',month_param,year_param)\n",
    "        if nim_row==True:\n",
    "           print(f'Found at lest one row in Nimble For  Month-{month_param} and Year-{year_param}')\n",
    "        else:\n",
    "           print(f'Not found at lest one row in Nimble For  Month-{month_param} and Year-{year_param}') \n",
    "        list_errors.append(None);\n",
    "    else:\n",
    "       list_errors.append(error_text('Nimble','report_nimble_info',2));\n",
    "    \n",
    "    print(\"========================================================\")\n",
    "   \n",
    "    prim_jobType=7\n",
    "    prim_job=charger.get_last_complete_job(month_param,year_param,prim_jobType)\n",
    "    print('Primera Complete Job\\n',prim_job)\n",
    "    if (prim_job is not None) and (len(prim_job)>0):\n",
    "        prim_row=charger.check_existing_one_info('report_primera_info',month_param,year_param)\n",
    "        if prim_row==True:\n",
    "           print(f'Found at lest one row in Primera For  Month-{month_param} and Year-{year_param}')\n",
    "        else:\n",
    "           print(f'Not found at lest one row in Primera For  Month-{month_param} and Year-{year_param}') \n",
    "        list_errors.append(None);\n",
    "    else:\n",
    "       list_errors.append(error_text('Primera','report_primera_info',2));\n",
    "    \n",
    "    print(\"========================================================\")\n",
    "\n",
    "      \n",
    "    \n",
    "    \n",
    "    return list_errors\n",
    "\n",
    "listxxx=check_valid_data_to_build_report()\n",
    "list_errors= [ error for error in listxxx if  error is not None ] \n",
    "if len(list_errors)>0:\n",
    " for error in list_errors: \n",
    "    vm_util.add_error_to_database(24,error,t_id)\n",
    "\n",
    " vm_util.collect_error_to_sent_mail(t_id)    \n",
    " print(\"Building report occured error\")  \n",
    " raise Exception((' ').join(list_errors))\n",
    " quit()\n",
    "\n",
    "    \n"
   ]
  },
  {
   "cell_type": "code",
   "execution_count": null,
   "metadata": {},
   "outputs": [],
   "source": [
    "def clear_folder_after_complete(x_is_completed,x_is_monthly,x_zip_folder_path,x_report_path):\n",
    "    \n",
    " fd_mn.delete_entire_directory(x_zip_folder_path)   \n",
    "  \n",
    " if x_is_monthly == False:\n",
    "  fd_mn.delete_entire_directory(x_report_path)\n",
    " else:\n",
    "   if x_is_completed ==False    : \n",
    "     fd_mn.delete_entire_directory(x_report_path)"
   ]
  },
  {
   "cell_type": "markdown",
   "metadata": {},
   "source": [
    "# load configuation data  by getting from database and Initialize  value "
   ]
  },
  {
   "cell_type": "code",
   "execution_count": null,
   "metadata": {},
   "outputs": [],
   "source": [
    "try:\n",
    "    print(\"Load configuation data  by getting from database and Initialize  value \")\n",
    "    type_to_zip=vm_util.get_config_value('report_file_type',t_id).split(',')\n",
    "    print(type_to_zip)\n",
    "\n",
    "    temp_path=vm_util.get_config_value('temp_path',t_id)\n",
    "    #ok,error=vx.check_existing_filepath(temp_path,t_id)\n",
    "    print(temp_path)\n",
    "    \n",
    "\n",
    "    if is_monthly == True:\n",
    "     report_rootpath = vm_util.get_config_value('report_rootpath',t_id)\n",
    "     report_folder=f'{month_param}-{year_param}'\n",
    "     zip_filename= f'chargeback_report_{month_param}-{year_param}.zip'    \n",
    "    else:\n",
    "     report_rootpath =temp_path\n",
    "     report_folder=f\"report_temp_{datetime.datetime.now().strftime('%d-%m-%y_%H%M%S')}\"\n",
    "     zip_filename= f\"chargeback_report_{month_param}-{year_param}_{datetime.datetime.now().strftime('%d-%m-%y_%H%M%S')}.zip\"  \n",
    "\n",
    "    print(report_rootpath)   \n",
    "    print(report_folder)\n",
    "    print(zip_filename)\n",
    "\n",
    "    overview_templateName=vm_util.get_config_value('overview_report_template_path',t_id)\n",
    "    cc_templateName=vm_util.get_config_value('cost_center_report_template_path',t_id)\n",
    "\n",
    "    css_file=vm_util.get_config_value('css_file_path',t_id)\n",
    "    img_file=vm_util.get_config_value('logo_png_path',t_id)\n",
    "    \n",
    "    \n",
    "\n",
    "\n",
    "    print(overview_templateName)\n",
    "    print(cc_templateName)\n",
    "    print(css_file)\n",
    "    print(img_file)\n",
    "\n",
    "    vm_sheet_name =vm_util.get_config_value('vm_sheet_name',t_id)\n",
    "    backup_sheet_name =vm_util.get_config_value('backup_sheet_name',t_id)\n",
    "    netapp_sheet_name =vm_util.get_config_value('netapp_sheet_name',t_id)\n",
    "    nimble_sheet_name =vm_util.get_config_value('nimble_sheet_name',t_id)\n",
    "    primera_sheet_name =vm_util.get_config_value('primera_sheet_name',t_id)\n",
    "    \n",
    "    \n",
    "except Exception as ex:\n",
    "    list_error.append(True)\n",
    "    print(str(ex))\n",
    "    vm_util.add_error_to_database(3,str(ex),t_id)\n",
    "    \n"
   ]
  },
  {
   "cell_type": "code",
   "execution_count": null,
   "metadata": {},
   "outputs": [],
   "source": [
    "check_error_point(t_id)"
   ]
  },
  {
   "cell_type": "markdown",
   "metadata": {},
   "source": [
    "# Create report folder & file Name"
   ]
  },
  {
   "cell_type": "code",
   "execution_count": null,
   "metadata": {},
   "outputs": [],
   "source": [
    "try:\n",
    "\n",
    "    print(\"Create report folder & file Name\")\n",
    "    report_path=os.path.join(report_rootpath,report_folder)\n",
    "    print(report_path)\n",
    "    fd_mn.create_directory(report_path)\n",
    "\n",
    "    filename_detail=f'Chargeback_Detail_{month_param}-{year_param}.xlsx'\n",
    "    file_detail_report=os.path.join(report_path,filename_detail)\n",
    "    print(file_detail_report)\n",
    "    \n",
    "    \n",
    "    filename_summary=os.path.join(report_path,f'Chargeback_Summary_{month_param}-{year_param}.xlsx')\n",
    "    file_summary_report=os.path.join(report_path,filename_summary)\n",
    "    print(file_summary_report)\n",
    "\n",
    "    overview_pdf=os.path.join(report_path,f'Overview_Chargeback_{month_param}-{year_param}.pdf')\n",
    "    print(overview_pdf)\n",
    "\n",
    "except Exception as ex:\n",
    "    list_error.append(True)\n",
    "    print(str(ex))   \n",
    "    vm_util.add_error_to_database(21,str(ex),t_id)  \n",
    "    \n",
    "check_error_point(t_id)\n",
    "    "
   ]
  },
  {
   "cell_type": "markdown",
   "metadata": {},
   "source": [
    "# Get detail report data as Module"
   ]
  },
  {
   "cell_type": "markdown",
   "metadata": {},
   "source": [
    "# Create Detail Report as Excel file"
   ]
  },
  {
   "cell_type": "code",
   "execution_count": null,
   "metadata": {},
   "outputs": [],
   "source": [
    "try:\n",
    " print(\"Get detail report data as Module\")\n",
    " detail_dict=costing_rpt.create_costing_detail(month_param,year_param)\n",
    "   \n",
    "except Exception as ex:\n",
    " list_error.append(True)\n",
    " print(str(ex))  \n",
    "    \n",
    "    \n",
    "check_error_point(t_id,False)\n"
   ]
  },
  {
   "cell_type": "code",
   "execution_count": null,
   "metadata": {},
   "outputs": [],
   "source": [
    "try:\n",
    "    print(\"Create Detail Report as Excel file\")\n",
    "    writer=pd.ExcelWriter(file_detail_report,engine='xlsxwriter') \n",
    "\n",
    "    df_vm=detail_dict['vm_detail']\n",
    "    df_vm.to_excel(writer, sheet_name=vm_sheet_name,index=False)\n",
    "    \n",
    "    \n",
    "    df_storage=detail_dict['storage_detail']\n",
    "    if df_storage is not None:\n",
    "       df_storage.to_excel(writer, sheet_name=netapp_sheet_name,index=False)\n",
    "                   \n",
    "    df_nimble=detail_dict['nimble_detail']               \n",
    "    if df_nimble is not None:\n",
    "       df_nimble.to_excel(writer, sheet_name=nimble_sheet_name,index=False)\n",
    "                   \n",
    "    df_primera=detail_dict['primera_detail']                \n",
    "    if df_primera is not None:\n",
    "      df_primera.to_excel(writer, sheet_name=primera_sheet_name,index=False)\n",
    "    \n",
    "    ref_master=detail_dict['cost_ref_master']\n",
    "    ref_fixed=detail_dict['cost_ref_fixed']\n",
    "    ref_addtion=detail_dict['cost_ref_addition']\n",
    "\n",
    "\n",
    "    ref_master.to_excel(writer,sheet_name='main_cost',index=False)\n",
    "    ref_fixed.to_excel(writer,sheet_name='fixed_cost',index=False)\n",
    "    ref_addtion.to_excel(writer,sheet_name='category_cost',index=False)\n",
    "\n",
    "    writer.save()\n",
    "\n",
    "\n",
    "except Exception as ex:\n",
    "    list_error.append(True)\n",
    "    print(str(ex))   \n",
    "    vm_util.add_error_to_database(24,str(ex),t_id)  "
   ]
  },
  {
   "cell_type": "code",
   "execution_count": null,
   "metadata": {},
   "outputs": [],
   "source": [
    "check_error_point(t_id)"
   ]
  },
  {
   "cell_type": "markdown",
   "metadata": {},
   "source": [
    "# Set Billing Data Info"
   ]
  },
  {
   "cell_type": "code",
   "execution_count": null,
   "metadata": {},
   "outputs": [],
   "source": [
    "print(\"Set Billing date info\")\n",
    "if  bill_info_sr is None:\n",
    "    bill_info_sr=vm_util.get_initial_bill_info(int(month_param),int(year_param),t_id)\n",
    "    \n",
    "print(bill_info_sr)\n"
   ]
  },
  {
   "cell_type": "code",
   "execution_count": null,
   "metadata": {},
   "outputs": [],
   "source": [
    "def update_hearder_report_dict(x_dict):\n",
    "    x_dict['Report_Logo']=img_file\n",
    "    x_dict['BillInfo']= bill_info_sr\n",
    "    return x_dict"
   ]
  },
  {
   "cell_type": "markdown",
   "metadata": {},
   "source": [
    "# Get billing report data as Module"
   ]
  },
  {
   "cell_type": "code",
   "execution_count": null,
   "metadata": {},
   "outputs": [],
   "source": [
    "try:\n",
    "\n",
    "    print(\"Get billing report data as Module\")\n",
    "    overview_dict,cc_dictList=billing_rpt.create_billing_report(detail_dict,month_param,year_param)\n",
    "    #overview_dict,cc_dictList=billing_rpt.create_billing_report_pysical(df_vm,df_storage,month_param,year_param)\n",
    "    overview_dict=update_hearder_report_dict(overview_dict)\n",
    "    print(overview_dict.keys())\n",
    "    \n",
    "except Exception as ex:\n",
    "\n",
    "    list_error.append(True)\n",
    "    print(str(ex))  \n",
    "    \n",
    "    \n",
    "check_error_point(t_id,False)"
   ]
  },
  {
   "cell_type": "markdown",
   "metadata": {},
   "source": [
    "# Fillter No-Cost of CostType to not show in Overview Report \n"
   ]
  },
  {
   "cell_type": "code",
   "execution_count": null,
   "metadata": {},
   "outputs": [],
   "source": [
    "print (\"Fillter only have cost to show in Overview Report \")\n",
    "costDF_filterOut=['VM_Cost','Backup_Cost','Storage_Cost','Nimble_Cost','Primera_Cost']\n",
    "\n",
    "for cost_key in costDF_filterOut:\n",
    "    if  overview_dict[cost_key] is not None:\n",
    "       df=overview_dict[cost_key] \n",
    "       if df.empty==True:\n",
    "         overview_dict[cost_key]=None  \n",
    "         print(f'{cost_key} dataframe is empty')   \n",
    "       else:     \n",
    "        sum_cost=df.iloc[:,2].sum()  \n",
    "        if sum_cost==0  :\n",
    "          overview_dict[cost_key]=None  \n",
    "          print(f'{cost_key} dataframe amount  is  0')  \n",
    "        else:\n",
    "          print(f'{cost_key} dataframe amount  is  {sum_cost}')  \n",
    "           \n"
   ]
  },
  {
   "cell_type": "markdown",
   "metadata": {},
   "source": [
    "# Create Billing Report as Pdf file and Excel Summary"
   ]
  },
  {
   "cell_type": "code",
   "execution_count": null,
   "metadata": {},
   "outputs": [],
   "source": [
    "if   float(overview_dict['Total_AllCost'])>0:\n",
    "\n",
    "    print(\"Print Overview Report\")\n",
    "    overview_html=vm_util.get_content_template(overview_templateName,overview_dict, tran_id=t_id)\n",
    "    try:\n",
    "     overview_html=vm_util.get_content_template(overview_templateName,overview_dict, tran_id=t_id)\n",
    "     HTML(string=overview_html).write_pdf(overview_pdf,stylesheets=[css_file])\n",
    "    #print(overview_html)\n",
    "    except Exception as ex:\n",
    "     list_error.append(True)\n",
    "     print(str(ex))   \n",
    "     vm_util.add_error_to_database(24,str(ex),t_id)  \n",
    "else:\n",
    "    print(\"No report\")\n",
    "\n",
    "check_error_point(t_id)\n",
    "\n",
    "\n",
    "#print(overview_html)"
   ]
  },
  {
   "cell_type": "code",
   "execution_count": null,
   "metadata": {},
   "outputs": [],
   "source": [
    "try:\n",
    "    print(\"Create Report Summary as Excel file\")\n",
    "    writer=pd.ExcelWriter(filename_summary,engine='xlsxwriter') \n",
    "    \n",
    "    df_vm_sum=overview_dict['VM_Cost']\n",
    "    if  df_vm_sum is not None  : \n",
    "     df_vm_sum.to_excel(writer, sheet_name=vm_sheet_name,index=False)\n",
    "    \n",
    "    df_backup_sum=overview_dict['Backup_Cost']\n",
    "    if df_backup_sum is not None:\n",
    "     df_backup_sum.to_excel(writer, sheet_name=backup_sheet_name,index=False)\n",
    "    \n",
    "    \n",
    "    df_storage_sum=overview_dict['Storage_Cost']\n",
    "    if df_storage_sum is not None:\n",
    "       df_storage_sum.to_excel(writer, sheet_name=netapp_sheet_name,index=False)\n",
    "           \n",
    "    df_nim_sum=overview_dict['Nimble_Cost']\n",
    "    if df_nim_sum is not None:\n",
    "       df_nim_sum.to_excel(writer, sheet_name=nimble_sheet_name,index=False)\n",
    "    \n",
    "    df_prim_sum=overview_dict['Primera_Cost']\n",
    "    if df_prim_sum is not None:\n",
    "       df_prim_sum.to_excel(writer, sheet_name=primera_sheet_name,index=False)\n",
    "\n",
    "    writer.save()\n",
    "\n",
    "\n",
    "except Exception as ex:\n",
    "    list_error.append(True)\n",
    "    print(str(ex))   \n",
    "    vm_util.add_error_to_database(24,str(ex),t_id)  "
   ]
  },
  {
   "cell_type": "markdown",
   "metadata": {},
   "source": [
    "print(\"Print Cost Center Report\")"
   ]
  },
  {
   "cell_type": "code",
   "execution_count": null,
   "metadata": {},
   "outputs": [],
   "source": [
    "try:    \n",
    "\n",
    " for cc in cc_dictList:\n",
    "   for key,item in cc.items():\n",
    "    \n",
    "     cc_name=key\n",
    "     print(\"###############################################################################\")   \n",
    "     print(f'CostCenter : {cc_name}') \n",
    "    \n",
    "     if float(item['Total_AllCost'])>0:\n",
    "\n",
    "       for cost_key in costDF_filterOut:\n",
    "         if item[cost_key] is not None:\n",
    "            df=item[cost_key] \n",
    "            if df.empty==True:\n",
    "              item[cost_key]=None  \n",
    "            else:     \n",
    "              sum_cost=df.iloc[:,2].sum()  \n",
    "              if sum_cost==0  :\n",
    "                item[cost_key]=None    \n",
    "\n",
    "                \n",
    "       print('CostbyCate', item['Total_ByCateCost'])       \n",
    "       for cost_key in costDF_filterOut:\n",
    "         print (item[cost_key])\n",
    "       print(\"###############################################################################\")     \n",
    "        \n",
    "       template_vars_cc=update_hearder_report_dict(item)\n",
    "       #print(template_vars_cc.keys())   \n",
    "       pdf_name_cc=os.path.join(report_path,f'{cc_name}_Chargeback_{month_param}-{year_param}.pdf')\n",
    "       print(pdf_name_cc)   \n",
    "       cc_html=vm_util.get_content_template(cc_templateName,template_vars_cc, tran_id=t_id)\n",
    "       HTML(string=cc_html).write_pdf(pdf_name_cc,stylesheets=[css_file])  \n",
    "    \n",
    "except Exception as ex:\n",
    "     list_error.append(True)\n",
    "     print(str(ex))   \n",
    "     vm_util.add_error_to_database(24,str(ex),t_id)  \n",
    "\n",
    "check_error_point(t_id)\n"
   ]
  },
  {
   "cell_type": "markdown",
   "metadata": {},
   "source": [
    "# Create Zip Tile "
   ]
  },
  {
   "cell_type": "code",
   "execution_count": null,
   "metadata": {},
   "outputs": [],
   "source": [
    "try:\n",
    "\n",
    "    zip_folder_name=f\"zip_report_{datetime.datetime.now().strftime('%d-%m-%y_%H%M%S')}\"\n",
    "    zip_folder_path = os.path.join(temp_path,zip_folder_name) \n",
    "\n",
    "\n",
    "    result_os=fd_mn.create_directory(zip_folder_path)\n",
    "\n",
    "    zip_temp_file = os.path.join(zip_folder_path,zip_filename)  \n",
    "    type_to_zip=['.pdf','.xlsx']\n",
    "\n",
    "    print(zip_temp_file)   \n",
    "    result_os=fd_mn.make_zip(report_path,type_to_zip,zip_temp_file)\n",
    "    print(result_os)  \n",
    "\n",
    "except Exception as ex:\n",
    "     list_error.append(True)\n",
    "     print(str(ex))   \n",
    "     vm_util.add_error_to_database(24,str(ex),t_id)  \n",
    "        \n",
    "\n",
    "check_error_point(t_id)"
   ]
  },
  {
   "cell_type": "markdown",
   "metadata": {},
   "source": [
    "# Email Notification\n"
   ]
  },
  {
   "cell_type": "markdown",
   "metadata": {},
   "source": [
    "# Send mail as Module"
   ]
  },
  {
   "cell_type": "code",
   "execution_count": null,
   "metadata": {},
   "outputs": [],
   "source": [
    "print(\"Send mail\")\n",
    "#required_keys=['email_type','transaction_id','attached_file_path','content_data_dict']\n",
    "try:\n",
    " content_data_dict= {\n",
    "                 \"ContentTitle\":\"List All Cost-Center Report in AttachedFile\",\n",
    "                }\n",
    " ok= x_mail.send_email(email_type='report',transaction_id=t_id,\n",
    "                 attached_file_path=zip_temp_file,content_data_dict=content_data_dict)\n",
    "\n",
    "except Exception as ex:\n",
    " print(str(ex))   \n",
    " list_error.append(True)\n",
    " # delelte all folder\n",
    " clear_folder_after_complete(False,is_monthly,zip_folder_path,report_path)\n",
    "\n",
    "\n",
    "check_error_point(t_id,False) \n",
    "    "
   ]
  },
  {
   "cell_type": "markdown",
   "metadata": {},
   "source": [
    "# Delete temp folder report (AC-hoc)\n",
    " "
   ]
  },
  {
   "cell_type": "code",
   "execution_count": null,
   "metadata": {},
   "outputs": [],
   "source": [
    "print(\"Delete temp folder and zip report\")\n",
    "clear_folder_after_complete(True,is_monthly,zip_folder_path,report_path)"
   ]
  },
  {
   "cell_type": "markdown",
   "metadata": {},
   "source": [
    "# Completed Transaction"
   ]
  },
  {
   "cell_type": "code",
   "execution_count": null,
   "metadata": {},
   "outputs": [],
   "source": [
    "try: \n",
    "\n",
    "    updated_rows=vm_util.created_transaction(t_id)\n",
    "    print(\"completed building report\")\n",
    "    \n",
    "except Exception as ex:\n",
    "    list_error.append(True)\n",
    "    print(ex)\n",
    "    \n",
    "check_error_point(t_id)"
   ]
  },
  {
   "cell_type": "code",
   "execution_count": null,
   "metadata": {},
   "outputs": [],
   "source": []
  },
  {
   "cell_type": "code",
   "execution_count": null,
   "metadata": {},
   "outputs": [],
   "source": []
  }
 ],
 "metadata": {
  "kernelspec": {
   "display_name": "Python 3",
   "language": "python",
   "name": "python3"
  },
  "language_info": {
   "codemirror_mode": {
    "name": "ipython",
    "version": 3
   },
   "file_extension": ".py",
   "mimetype": "text/x-python",
   "name": "python",
   "nbconvert_exporter": "python",
   "pygments_lexer": "ipython3",
   "version": "3.8.5"
  }
 },
 "nbformat": 4,
 "nbformat_minor": 4
}
