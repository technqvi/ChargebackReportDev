{
 "cells": [
  {
   "cell_type": "code",
   "execution_count": null,
   "metadata": {},
   "outputs": [],
   "source": [
    "# Version 2  adding HPE Storage\n",
    "\n",
    "import pandas as pd\n",
    "import numpy as np\n",
    "\n",
    "import chargeback_rpt.vm_data_utility as vm_util\n",
    "\n",
    "import chargeback_rpt.vm_data_charger as vc\n",
    "import chargeback_rpt.db_postgres_command as db_command\n",
    "import datetime  \n",
    "import chargeback_rpt.email_notifier as x_mail\n",
    "\n",
    "import calendar\n",
    "\n"
   ]
  },
  {
   "cell_type": "code",
   "execution_count": null,
   "metadata": {},
   "outputs": [],
   "source": [
    "#For Test in JupyterNB only\n",
    "# Delete it if convert to .py\n",
    "month_param=9\n",
    "year_param=2021\n",
    "\n",
    "\n",
    "# x_datenow=datetime.datetime.now()\n",
    "# month_param=x_datenow.strftime('%m')\n",
    "# year_param=x_datenow.strftime('%Y')"
   ]
  },
  {
   "cell_type": "code",
   "execution_count": null,
   "metadata": {},
   "outputs": [],
   "source": [
    "#def create_costing_detail(month_param,year_param):\n",
    "test_mid_cost=True\n",
    "test_file_detail_report=r'D:\\ChargeBackApp\\temp'"
   ]
  },
  {
   "cell_type": "code",
   "execution_count": null,
   "metadata": {},
   "outputs": [],
   "source": [
    "\n",
    "t_id=vm_util.creating_transaction(3,month_param,year_param)\n",
    "print(f\"ETL Transaction ID: {t_id}\")"
   ]
  },
  {
   "cell_type": "code",
   "execution_count": null,
   "metadata": {},
   "outputs": [],
   "source": [
    "list_error=[]\n",
    "print(list_error)\n",
    "\n",
    "\n",
    "def check_error_point(tran_id):\n",
    "  print(list_error)\n",
    "  if True in list_error:\n",
    "\n",
    "        \n",
    "    vm_util.collect_error_to_sent_mail(tran_id) \n",
    "    \n",
    "    print(\"Create detail data occured error\") \n",
    "    \n",
    "    raise Exception(\"Program is teminated and check error from email and log_error.txt\")\n",
    "    \n",
    "  list_error.clear()\n",
    "  print(list_error)  "
   ]
  },
  {
   "cell_type": "code",
   "execution_count": null,
   "metadata": {},
   "outputs": [],
   "source": [
    "\n",
    "print(\"Get no. month to calculate interim-month\")                                     \n",
    "\n",
    "try:\n",
    "\n",
    "    no_day_in_month=vm_util.get_no_days_in_month_for_costing(int(year_param),int(month_param),t_id)\n",
    "    process_cost_date=datetime.datetime(int(year_param),int(month_param),int(no_day_in_month))\n",
    "    \n",
    "except:\n",
    "    list_error.append(True)  \n",
    "      \n",
    "check_error_point(t_id)\n",
    "print(f'{month_param}-{year_param} apply {no_day_in_month} days to process cost at {process_cost_date}' )"
   ]
  },
  {
   "cell_type": "code",
   "execution_count": null,
   "metadata": {},
   "outputs": [],
   "source": [
    "table_vm=\"report_vm_info\"\n",
    "xcol_vm=\"vm\"\n",
    "\n",
    "\n",
    "xcol_date='created_date'\n",
    "xcol_terminated_date='terminated_date'\n",
    "\n",
    "x_col_state_vm='powerstate'\n",
    "state_vm='poweredOn'\n",
    "\n",
    "\n",
    "notDisplayCols_vm=['id','transaction_id', 'primary_ip_address','additional_info','vm_id']\n",
    "notDisplayCols_storge=['id','transaction_id', 'comment']\n",
    "\n",
    "\n",
    "table_st=\"report_storage_info\"\n",
    "xcol_st=\"volume_name\"\n",
    "\n",
    "vm_costtype_params=['vm_cost','backup_cost']\n",
    "storage_costtype_params=['storage_cost']\n",
    "\n",
    "\n",
    "out_Cols=[]\n",
    "in_Cols=[]\n"
   ]
  },
  {
   "cell_type": "code",
   "execution_count": null,
   "metadata": {},
   "outputs": [],
   "source": [
    "def rename_display_columns(dfx):\n",
    "\n",
    " report_cols=dfx.columns.tolist()\n",
    " process_cols=[]\n",
    " display_cols=[]\n",
    " print(report_cols)\n",
    " for col in report_cols:\n",
    "   sr_field= vc.get_datafield_by_column_name(col)\n",
    "   if sr_field is not None:\n",
    "     process_cols.append(col)\n",
    "     display_cols.append(sr_field['column_display_name'])\n",
    "        \n",
    " #print(len(process_cols))\n",
    " #print(len(display_cols))\n",
    " zip_cols=dict(zip(process_cols,display_cols))\n",
    " #print(zip_cols)\n",
    " dfx.rename(columns=zip_cols,inplace=True) \n",
    " return dfx\n",
    "    "
   ]
  },
  {
   "cell_type": "code",
   "execution_count": null,
   "metadata": {},
   "outputs": [],
   "source": [
    "# select only columns in datarframe\n",
    "def list_calculation_columns(df_cols,cost_items):\n",
    "  selected_items=[ item  for item in cost_items if item in df_cols ]  \n",
    "  return   selected_items     "
   ]
  },
  {
   "cell_type": "code",
   "execution_count": null,
   "metadata": {},
   "outputs": [],
   "source": [
    "def load_dataframe(xtb,xcol,notDisplayCols,xmonth,xyear):\n",
    "   \n",
    " dfx_info=vc.list_x_info(xtb,xcol,xmonth,xyear)\n",
    " if  dfx_info is not None:  \n",
    "\n",
    "  dfx_info=dfx_info[ [col for col in dfx_info.columns.tolist() if col not in notDisplayCols ]    ]\n",
    "\n",
    "  dfx_info= dfx_info.where(pd.notnull(dfx_info), None)  \n",
    "\n",
    "  if 'import_date' in dfx_info.columns:\n",
    "   dfx_info['import_date']=dfx_info['import_date'].dt.tz_localize(None)\n",
    "  \n",
    "  if xcol_date in dfx_info.columns:\n",
    "   dfx_info[xcol_date]=pd.to_datetime(dfx_info[xcol_date],format='%Y-%m-%d')\n",
    "\n",
    "\n",
    "  print(dfx_info.info())\n",
    "\n",
    "\n",
    "  columnx_info=dfx_info.columns.tolist()\n",
    "  print(columnx_info)\n",
    "  return  dfx_info,columnx_info\n",
    " else:\n",
    "  return None,None      \n",
    "        \n"
   ]
  },
  {
   "cell_type": "markdown",
   "metadata": {},
   "source": [
    "# Process VM Info"
   ]
  },
  {
   "cell_type": "markdown",
   "metadata": {},
   "source": [
    "# Load VM Data "
   ]
  },
  {
   "cell_type": "code",
   "execution_count": null,
   "metadata": {},
   "outputs": [],
   "source": [
    "df_vm,all_column_vm=load_dataframe(table_vm,xcol_vm,notDisplayCols_vm,month_param,year_param)\n",
    "if df_vm is None:\n",
    "  list_error.append(True)\n",
    "  error_message=f\"not found data in {table_vm} table on condition month={month_param} and year={year_param}\"\n",
    "  print(error_message)\n",
    "  vm_util.add_error_to_database(17,error_message,t_id)\n",
    "\n",
    "    "
   ]
  },
  {
   "cell_type": "code",
   "execution_count": null,
   "metadata": {},
   "outputs": [],
   "source": [
    "check_error_point(t_id)\n",
    "\n"
   ]
  },
  {
   "cell_type": "markdown",
   "metadata": {},
   "source": [
    "# Keep Add Addtional Cost for VM"
   ]
  },
  {
   "cell_type": "code",
   "execution_count": null,
   "metadata": {},
   "outputs": [],
   "source": [
    "df_category_additionalcost= vc.get_category_for_additional_cost()\n",
    "print(df_category_additionalcost)"
   ]
  },
  {
   "cell_type": "code",
   "execution_count": null,
   "metadata": {},
   "outputs": [],
   "source": [
    "print(\"select column addtional cost from dataframe for calculation\")\n",
    "cate_master=list_calculation_columns(all_column_vm,df_category_additionalcost['column_table_name'].tolist())\n",
    "print(cate_master)\n",
    "\n",
    "\n",
    "print(\"***************add addition(software) column********************\")\n",
    "in_Cols.extend(cate_master)\n",
    "print(in_Cols)\n",
    "\n",
    "\n",
    "dict_cate_master={}\n",
    "for cate in cate_master:\n",
    "    \n",
    "  dict_cate_master[cate]=df_vm[cate].unique()\n",
    "\n",
    "print(dict_cate_master)\n"
   ]
  },
  {
   "cell_type": "markdown",
   "metadata": {},
   "source": [
    "# Split Dataframe to be Online and Offline Dataframe"
   ]
  },
  {
   "cell_type": "code",
   "execution_count": null,
   "metadata": {},
   "outputs": [],
   "source": [
    "# df_vmOff=df_vm.query(\"powerstate!=@state_vm and only_backup==False\")\n",
    "# df_vmOn=df_vm.query(\"powerstate==@state_vm and only_backup==False\")\n",
    "\n",
    "\n",
    "df_vmOn=df_vm.query(\"only_backup==False\")\n",
    "df_vmOff=pd.DataFrame(columns =df_vm.columns.tolist())\n",
    "\n",
    "df_onlyBackup=df_vm.query(\"only_backup==True\")\n",
    "\n",
    "if df_vm.shape[0]!=df_vmOff.shape[0]+df_vmOn.shape[0]+df_onlyBackup.shape[0] :\n",
    " list_error.append(True)   \n",
    " error_message= f'some data in VmIfo are wrong with powerstate and only_backup column'\n",
    " print(error_message)   \n",
    " vm_util.add_error_to_database(17,error_message,t_id)  \n",
    "\n",
    "else:\n",
    " print('data is correct')\n",
    "\n",
    "check_error_point(t_id)"
   ]
  },
  {
   "cell_type": "code",
   "execution_count": null,
   "metadata": {},
   "outputs": [],
   "source": [
    "df_vm=None"
   ]
  },
  {
   "cell_type": "code",
   "execution_count": null,
   "metadata": {},
   "outputs": [],
   "source": [
    "print('1.list vm keep status off')\n",
    "print(df_vmOff[['capacity_gb','os','backup_size_gb']])\n",
    "print(\"*************************************************************************\")\n",
    "\n",
    "print('2.list vm keep status on')\n",
    "print(df_vmOn[['vm','cpu','memory','capacity_gb','os','backup_size_gb']])\n",
    "print(\"*************************************************************************\")\n",
    "\n",
    "print('3.list backpup only but no vm')\n",
    "print(df_onlyBackup[['vm','cpu','memory','capacity_gb','os','backup_size_gb']])\n",
    "print(\"*************************************************************************\")"
   ]
  },
  {
   "cell_type": "markdown",
   "metadata": {},
   "source": [
    "# Cal Master Cost"
   ]
  },
  {
   "cell_type": "code",
   "execution_count": null,
   "metadata": {},
   "outputs": [],
   "source": [
    "print(\"create column for master-calculation\")\n",
    "df_master= vc.get_all_master_cost()\n",
    "df_masterOff=df_master.query('only_online==False')\n",
    "\n",
    "df_masterBackup=df_master.query(\"column_table_name=='backup_size_gb'\")\n",
    "\n",
    "print(df_master[['column_table_name','cost_unit','only_online','column_display_name','cost_column_display_name']])\n",
    "print(\"========================================================================================\")\n",
    "print(df_masterOff[['column_table_name','cost_unit','only_online','column_display_name','cost_column_display_name']])\n",
    "print(\"========================================================================================\")\n",
    "print(df_masterBackup[['column_table_name','cost_unit','only_online','column_display_name','cost_column_display_name']])"
   ]
  },
  {
   "cell_type": "code",
   "execution_count": null,
   "metadata": {},
   "outputs": [],
   "source": [
    "print(\"select column cost from dataframe for calculation\")\n",
    "\n",
    "x_master=list_calculation_columns(all_column_vm,df_master['column_table_name'].tolist())\n",
    "x_off_master=list_calculation_columns(all_column_vm,df_masterOff['column_table_name'].tolist())\n",
    "x_backup_master=list_calculation_columns(all_column_vm,df_masterBackup['column_table_name'].tolist())\n",
    "\n",
    "print(x_master)\n",
    "print(x_off_master)\n",
    "print(x_backup_master)\n",
    "\n",
    "\n",
    "print(\"***************add master cost column********************\")\n",
    "in_Cols.extend(x_master)\n",
    "print(in_Cols)"
   ]
  },
  {
   "cell_type": "code",
   "execution_count": null,
   "metadata": {},
   "outputs": [],
   "source": [
    "print(\"create master-cost column name and set default value\")\n",
    "\n",
    "# store cost-value column name , they are excluded in mapping colum display name step \n",
    "xCostColName=[]\n",
    "for x in x_master:\n",
    " sr_temp=(df_master.query('column_table_name==@x')).iloc[0]\n",
    " xCostColName.append(sr_temp['cost_column_display_name']) \n",
    "\n",
    "\n",
    "print(xCostColName)\n",
    "\n",
    "df_vmOn[xCostColName]=0.0\n",
    "df_vmOff[xCostColName]=0.0\n",
    "df_onlyBackup[xCostColName]=0.0\n",
    "\n",
    "# print(df_vmOff.info())\n",
    "# print(df_vmOn.info())\n",
    "# print(df_onlyBackup.info())\n",
    "\n",
    "\n",
    "\n",
    "print(\"***************add master result column********************\")\n",
    "out_Cols.extend(xCostColName)\n",
    "print(out_Cols)\n"
   ]
  },
  {
   "cell_type": "code",
   "execution_count": null,
   "metadata": {},
   "outputs": [],
   "source": [
    "def process_cal_masterCost(dfx,costList,df_cost):\n",
    "\n",
    "  for cost_name in costList:\n",
    "\n",
    "    # find item by column name  and  convert dataframe to series \n",
    "    #item_cost=(df_cost.query('column_table_name==@cost_name')).iloc[0] \n",
    "    item_cost=(df_cost[df_cost['column_table_name']==cost_name]).iloc[0]   \n",
    "    \n",
    "    costVal_column=item_cost['cost_column_display_name']\n",
    "    #print(cost_name,' , ',costVal_column)\n",
    "    #print(\"+++++++++++++++++++++++++++++++++++++++++++++++++++++++++++++++++++++++++\")\n",
    "    \n",
    "    x_unit=item_cost['cost_unit']  \n",
    "    # add cost column at right here\n",
    "    dfx[costVal_column]=dfx[cost_name ].apply(lambda val: val* x_unit)\n",
    "    \n",
    "  return dfx"
   ]
  },
  {
   "cell_type": "code",
   "execution_count": null,
   "metadata": {},
   "outputs": [],
   "source": [
    "df_vmOn=process_cal_masterCost(df_vmOn,x_master,df_master)\n",
    "df_vmOff=process_cal_masterCost(df_vmOff,x_off_master,df_masterOff)\n",
    "df_onlyBackup=process_cal_masterCost(df_onlyBackup,x_backup_master,df_masterBackup)\n",
    "print(df_vmOn[[xcol_vm]+x_master+out_Cols])\n",
    "print(df_vmOff[[xcol_vm]+x_master+out_Cols])\n",
    "print(df_onlyBackup[[xcol_vm]+x_master+out_Cols])\n",
    "\n",
    "print(\"++++++++++++++++++++Show newly created master-cost columns++++++++++++++++++++++++\")\n",
    "print(df_vmOn.info())\n"
   ]
  },
  {
   "cell_type": "markdown",
   "metadata": {},
   "source": [
    "# Cal Fix Cost"
   ]
  },
  {
   "cell_type": "code",
   "execution_count": null,
   "metadata": {},
   "outputs": [],
   "source": [
    "print(\"create column for fixed-calculation\")\n",
    "df_fixed= vc.get_all_fixed_cost()\n",
    "df_fixedOff=df_fixed.query('only_online==False')\n",
    "df_fixedฺBackupSW=df_fixed.query(\"column_table_name=='backup_software'\")\n",
    "\n",
    "x_fixed=df_fixed['column_table_name'].tolist()\n",
    "x_off_fixed=df_fixedOff['column_table_name'].tolist()\n",
    "x_backupSW_fixed=df_fixedฺBackupSW['column_table_name'].tolist()\n",
    "\n",
    "print(df_fixed[['column_table_name','cost_unit','only_online','column_display_name','cost_column_display_name']])\n",
    "print(df_fixedOff[['column_table_name','cost_unit','only_online','column_display_name','cost_column_display_name']])\n",
    "print(df_fixedฺBackupSW[['column_table_name','cost_unit','only_online','column_display_name','cost_column_display_name']])\n",
    "print(\"==================================================================================================\")\n",
    "print(\"FixCost for VM=ON\",x_fixed)\n",
    "print(\"FixCost for VM=OFF\",x_off_fixed)\n",
    "print(\"FixCost for no longer existing VM\",x_backupSW_fixed)\n"
   ]
  },
  {
   "cell_type": "code",
   "execution_count": null,
   "metadata": {},
   "outputs": [],
   "source": [
    "print(\"create fixed-cost column-name\")\n",
    "\n",
    "\n",
    "# store cost-value column name , they are excluded in mapping colum display name step \n",
    "fixedCostColName=[]\n",
    "for x in x_fixed:\n",
    " sr_temp=(df_fixed.query('column_table_name==@x')).iloc[0]\n",
    " fixedCostColName.append(sr_temp['cost_column_display_name']) \n",
    "    \n",
    "print(fixedCostColName)\n",
    "\n",
    "df_vmOn[fixedCostColName]=0.0\n",
    "df_vmOff[fixedCostColName]=0.0\n",
    "df_onlyBackup[fixedCostColName]=0.0\n",
    "\n",
    "# print(df_vmOff.info())\n",
    "# print(df_vmOn.info())\n",
    "# print(df_onlyBackup.info())\n",
    "\n",
    "\n",
    "print(\"***************add fixe result column********************\")\n",
    "out_Cols.extend(fixedCostColName)\n",
    "print(out_Cols)\n"
   ]
  },
  {
   "cell_type": "code",
   "execution_count": null,
   "metadata": {},
   "outputs": [],
   "source": [
    "def calFixedCost(row,item_cost):\n",
    "    \n",
    "  if item_cost['ref_column_table_name']!=None:\n",
    "    x=item_cost['ref_column_table_name']\n",
    "    x_val=row[x]\n",
    "    if x_val>0 :\n",
    "      return item_cost['cost_unit']\n",
    "    else:\n",
    "      return 0  \n",
    "  else:\n",
    "      return item_cost['cost_unit']"
   ]
  },
  {
   "cell_type": "code",
   "execution_count": null,
   "metadata": {},
   "outputs": [],
   "source": [
    "def process_cal_fixedCost(dfx,costList,df_cost):\n",
    "\n",
    " for cost_name in costList:\n",
    "\n",
    "    # find item by column name  and  convert dataframe to series \n",
    "    #item_cost=(df_cost.query('column_table_name==@cost_name')).iloc[0] \n",
    "    item_cost=(df_cost[df_cost['column_table_name']==cost_name]).iloc[0]   \n",
    "       \n",
    "    costVal_column=item_cost['cost_column_display_name']\n",
    "     # add fixed cost \n",
    "    dfx[costVal_column]=dfx.apply(calFixedCost,axis=1,args=(item_cost,))\n",
    "    \n",
    " return dfx"
   ]
  },
  {
   "cell_type": "code",
   "execution_count": null,
   "metadata": {},
   "outputs": [],
   "source": [
    "df_vmOn=process_cal_fixedCost(df_vmOn,x_fixed,df_fixed)\n",
    "df_vmOff=process_cal_fixedCost(df_vmOff,x_off_fixed,df_fixedOff)\n",
    "df_onlyBackup=process_cal_fixedCost(df_onlyBackup,x_backupSW_fixed,df_fixedฺBackupSW)"
   ]
  },
  {
   "cell_type": "code",
   "execution_count": null,
   "metadata": {},
   "outputs": [],
   "source": [
    "print(df_vmOn[['vm']+fixedCostColName])\n",
    "print(df_vmOff[['vm']+fixedCostColName])\n",
    "print(df_onlyBackup[['vm']+fixedCostColName])\n",
    "print(\"++++++++++++++++++++Show further newly created fixed-cost columns++++++++++++++++++++++++\")\n",
    "print(df_vmOn.info())"
   ]
  },
  {
   "cell_type": "markdown",
   "metadata": {},
   "source": [
    "# Cal Addtional Cost by  Category"
   ]
  },
  {
   "cell_type": "markdown",
   "metadata": {},
   "source": [
    "# Keep Add Addtional Cost (Cont)"
   ]
  },
  {
   "cell_type": "code",
   "execution_count": null,
   "metadata": {},
   "outputs": [],
   "source": [
    "additionalCostColName=[]\n",
    "for x in cate_master:\n",
    " sr_temp=(df_category_additionalcost.query('column_table_name==@x')).iloc[0]\n",
    " additionalCostColName.append(sr_temp['cost_column_display_name']) \n",
    "    \n",
    "print(\"create addtional-cost column(software cost) name and set default value\")\n",
    "    \n",
    "print(additionalCostColName)\n",
    "\n",
    "df_vmOn[additionalCostColName]=0.0\n",
    "df_vmOff[additionalCostColName]=0.0\n",
    "df_onlyBackup[additionalCostColName]=0.0\n",
    "\n",
    "print(df_vmOff.head())\n",
    "print(df_vmOn.head())\n",
    "print(df_onlyBackup.head())\n",
    "\n",
    "\n",
    "print(\"***************add addditional result column********************\")\n",
    "out_Cols.extend(additionalCostColName)\n",
    "print(out_Cols)\n",
    "\n"
   ]
  },
  {
   "cell_type": "code",
   "execution_count": null,
   "metadata": {},
   "outputs": [],
   "source": [
    "df_addt_cost=None\n",
    "for cate_key,cost_nameList in dict_cate_master.items():  \n",
    "  if df_addt_cost is None:\n",
    "    df_addt_cost=vc.list_additional_cost_by_listCostName(cost_nameList )\n",
    "  else:\n",
    "    df_temp  =vc.list_additional_cost_by_listCostName(cost_nameList)\n",
    "    df_addt_cost=pd.concat([df_addt_cost,df_temp],axis=0)    \n",
    "\n",
    "df_addt_cost= df_addt_cost.where(pd.notnull(df_addt_cost), None)  \n",
    "print(df_addt_cost[['cost_name','cost_unit','cost_cal_unit','master_cost_unitbase','ref_column_table_name']])\n",
    "#print(df_addt_cost[['cost_unit','cost_cal_unit','master_cost_unitbase','ref_column_table_name']])\n",
    "\n",
    "print(df_addt_cost.info())"
   ]
  },
  {
   "cell_type": "markdown",
   "metadata": {},
   "source": [
    "# Calulate  category cost carefully"
   ]
  },
  {
   "cell_type": "code",
   "execution_count": null,
   "metadata": {},
   "outputs": [],
   "source": [
    "# calulate only power on\n",
    "def calAddtionalCost_ref(item,itemCost):\n",
    "\n",
    "#  xyz=0.0\n",
    "#  if item['powerstate']!=state_vm : # powerOff\n",
    "#   xyz=0.0 \n",
    "#  else: # powerOn\n",
    "    # cal Cal server\n",
    "  if (itemCost['cost_cal_unit'] is not None) and  (itemCost['master_cost_unitbase'] is None)  and (item['database_no_cal'] >0):\n",
    "     noCal=item['database_no_cal']\n",
    "     costCal=itemCost['cost_cal_unit']   \n",
    "     xyz=itemCost['cost_unit']+  (noCal*costCal)\n",
    "    # cal Core server   \n",
    "  elif (itemCost['master_cost_unitbase'] is not None)  and (itemCost['ref_column_table_name'] is not None) and (itemCost['cost_cal_unit'] is None):\n",
    "     ref_col=itemCost['ref_column_table_name']\n",
    "     unitbase=itemCost['master_cost_unitbase']   \n",
    "     xyz= itemCost['cost_unit']*(item[ref_col]/unitbase)\n",
    "    # cal only server   \n",
    "  else :\n",
    "     xyz=itemCost['cost_unit']\n",
    "        \n",
    "        \n",
    "  return xyz   \n",
    "         "
   ]
  },
  {
   "cell_type": "code",
   "execution_count": null,
   "metadata": {},
   "outputs": [],
   "source": [
    "def calAddtionalCost(item,cate_x):\n",
    " #print(cate_x, \" - \",item[cate_x])\n",
    " x=item[cate_x]\n",
    "    \n",
    " abc=0.0\n",
    " if x is not None:\n",
    "  itemCost_df=(df_addt_cost.query('cost_name==@x and column_table_name==@cate_x'))\n",
    "  if len(itemCost_df)==1 :\n",
    "    itemCost=itemCost_df.iloc[0]\n",
    "    #print(itemCost['cost_name','column_table_name','cost_column_display_name','cost_unit','master_cost_unitbase','ref_column_table_name','only_online'])\n",
    "    abc=calAddtionalCost_ref(item,itemCost)\n",
    "  else:\n",
    "      # add error to list and database\n",
    "    list_error.append(True)\n",
    "    error_message=f\"Not found ={cate_x} and cost={x} in master_additional_cost for vm {item['vm']} at {month_param}-{year_param} in {table_vm}\"\n",
    "    print(error_message)   \n",
    "    vm_util.add_error_to_database(18,error_message,t_id)  \n",
    "\n",
    " #else:  # not calculate\n",
    "    #print(\"none\")\n",
    "    \n",
    " return abc     "
   ]
  },
  {
   "cell_type": "code",
   "execution_count": null,
   "metadata": {},
   "outputs": [],
   "source": [
    "# dict_cate_master\n",
    "# df_vmOn/df_vmOff ,cate_master,df_category_additionalcost,df_addt_cost\n",
    "def process_cal_AddtionalCost(dfx,cateList):\n",
    "\n",
    " for cate_col in cateList:\n",
    "      print(\"List Columns to take them to caculate additional cost\")  \n",
    "      cate_item=(df_category_additionalcost.query('column_table_name==@cate_col')).iloc[0] \n",
    "      cate_name=cate_item[\"column_table_name\"]\n",
    "      cate_costDispName=cate_item[\"cost_column_display_name\"]\n",
    "      print(cate_name,\"-\",cate_costDispName)\n",
    "        \n",
    "      dfx[cate_costDispName]=dfx.apply(calAddtionalCost,axis=1,args=(cate_name,))\n",
    "    \n",
    " return dfx"
   ]
  },
  {
   "cell_type": "markdown",
   "metadata": {},
   "source": [
    "# Concat vm before doing addtional cost calculation"
   ]
  },
  {
   "cell_type": "code",
   "execution_count": null,
   "metadata": {},
   "outputs": [],
   "source": [
    "df_vm=pd.concat([df_vmOn,df_vmOff])\n",
    "df_vm=process_cal_AddtionalCost(df_vm ,cate_master)\n",
    "\n",
    "df_vm=pd.concat([df_vm,df_onlyBackup])\n",
    "\n",
    "df_vm.reset_index(drop=True,inplace=True)\n",
    "\n"
   ]
  },
  {
   "cell_type": "code",
   "execution_count": null,
   "metadata": {},
   "outputs": [],
   "source": [
    "check_error_point(t_id)    \n"
   ]
  },
  {
   "cell_type": "markdown",
   "metadata": {},
   "source": [
    "# Get Total Summary Cost Type of VM and Backup"
   ]
  },
  {
   "cell_type": "code",
   "execution_count": null,
   "metadata": {},
   "outputs": [],
   "source": [
    "# for index,item in df_master.iterrows():\n",
    "\n",
    "def creat_totalColumns_costType(item,costTypeDict_x):\n",
    "  type_id=item['cost_type_id']\n",
    "  x_total=item['cost_column_display_name']\n",
    "  #print(type_id,'-',x_total)\n",
    "  \n",
    "  if  type_id in costTypeDict_x:\n",
    "   if  costTypeDict_x[type_id] is None:\n",
    "    costTypeDict_x[type_id]=[x_total]\n",
    "   else:\n",
    "    xxx=costTypeDict_x[type_id]\n",
    "    if x_total not in xxx:\n",
    "     xxx.append(x_total)\n",
    "     costTypeDict_x[type_id]=xxx\n",
    "    "
   ]
  },
  {
   "cell_type": "code",
   "execution_count": null,
   "metadata": {},
   "outputs": [],
   "source": [
    "def sum_totalColumns_costType(ctDict,dfCType,dfxInfo):\n",
    " #print(ctDict)\n",
    " for key,listItem in ctDict.items():\n",
    "    report_name=(dfCType.query('id==@key').iloc[0])['report_name']\n",
    "    dfxInfo[report_name]=0.0\n",
    "    #print(report_name)\n",
    "    #print(\"================================\")\n",
    "    for item_cost in listItem: \n",
    "        #print(item_cost)\n",
    "        dfxInfo[report_name]+=dfxInfo[item_cost]\n",
    "\n",
    " return dfxInfo     "
   ]
  },
  {
   "cell_type": "code",
   "execution_count": null,
   "metadata": {},
   "outputs": [],
   "source": [
    "def create_total_DF_Dict(listTypeId):\n",
    "    ct_df=vc.list_cost_type(listTypeId)\n",
    "    ct_dict=dict.fromkeys(ct_df['id'].tolist())\n",
    "    return  ct_df,ct_dict"
   ]
  },
  {
   "cell_type": "code",
   "execution_count": null,
   "metadata": {},
   "outputs": [],
   "source": [
    "print(\"Get Total Summary Cost Type of VM and Backup\")\n",
    "cost_type_df,costTypeDict=create_total_DF_Dict(vm_costtype_params)\n",
    "\n",
    "if len(cost_type_df)!=len(vm_costtype_params):\n",
    " list_error.append(True)\n",
    " error_message=f\"Not found  some type name in table cost type as follows {vm_costtype_params}\"\n",
    " print(error_message)  \n",
    " vm_util.add_error_to_database(19,error_message,t_id) \n",
    "else:\n",
    " print(cost_type_df)\n",
    " print(costTypeDict)\n",
    "    \n",
    " print(\"***************add total summary result column********************\")\n",
    " out_Cols.extend(cost_type_df['report_name'].tolist())\n",
    " print(out_Cols)\n",
    "   "
   ]
  },
  {
   "cell_type": "code",
   "execution_count": null,
   "metadata": {},
   "outputs": [],
   "source": [
    "check_error_point(t_id)"
   ]
  },
  {
   "cell_type": "code",
   "execution_count": null,
   "metadata": {},
   "outputs": [],
   "source": [
    "print(costTypeDict)\n",
    "print(df_master[['column_table_name','cost_column_display_name','cost_type_id']])\n",
    "total_temp=df_master.apply(creat_totalColumns_costType,axis=1,args=(costTypeDict,))\n",
    "\n",
    "print(df_fixed[['column_table_name','cost_column_display_name','cost_type_id']])\n",
    "total_temp=df_fixed.apply(creat_totalColumns_costType,axis=1,args=(costTypeDict,))\n",
    "\n",
    "print(df_addt_cost[['column_table_name','cost_column_display_name','cost_type_id']])\n",
    "total_temp=df_addt_cost.apply(creat_totalColumns_costType,axis=1,args=(costTypeDict,))\n",
    "print(costTypeDict)\n",
    "\n",
    "df_vm=sum_totalColumns_costType(costTypeDict,cost_type_df,df_vm)\n",
    "print(df_vm.info())\n",
    "print(df_vm)"
   ]
  },
  {
   "cell_type": "code",
   "execution_count": null,
   "metadata": {},
   "outputs": [],
   "source": []
  },
  {
   "cell_type": "code",
   "execution_count": null,
   "metadata": {},
   "outputs": [],
   "source": []
  },
  {
   "cell_type": "markdown",
   "metadata": {},
   "source": [
    "# Adjust Cost Interim-Month V2"
   ]
  },
  {
   "cell_type": "code",
   "execution_count": null,
   "metadata": {},
   "outputs": [],
   "source": [
    "def xyz(df_xxx,xcol_key,cost_Cols, is_vm_cost):\n",
    "    \"Paramters are dataframe,dict_params : col_key as string,col_created_date as date,cost_columns as list,process_cost_date as datetime,no_days_in_month as int\"\n",
    "\n",
    "    try:\n",
    "        no_month_for_price_day=30\n",
    "        #no_month_for_price_day=no_day_in_month\n",
    "\n",
    "        print(\"2.Split in-month and full-month\")\n",
    "\n",
    "        \n",
    "        df_InMonth = df_xxx[(df_xxx[xcol_date].dt.month == process_cost_date.month) & (\n",
    "                df_xxx[xcol_date].dt.year == process_cost_date.year)].copy()\n",
    "        \n",
    "        df_FullMonth = df_xxx[~(df_xxx[xcol_key].isin(df_InMonth[xcol_key].tolist()))].copy()\n",
    "        \n",
    "        ex_UsedDay_col = 'ex_UsedDay'\n",
    "        ex_TotalDay_col = 'ex_NoDayToAverageCost'\n",
    "        \n",
    "        def cal_x(df_temp):\n",
    "            df_temp[ex_TotalDay_col] = no_month_for_price_day\n",
    "            \n",
    "            for cost_item in cost_Cols:\n",
    "                df_temp[cost_item] = (df_temp[cost_item] / df_temp[ex_TotalDay_col]) * df_temp[ex_UsedDay_col]\n",
    "             \n",
    "            print(\"#############Show No.Used Day For In Month################\")\n",
    "            if  is_vm_cost==True:    \n",
    "             print(df_temp[[xcol_key,xcol_date,xcol_terminated_date,ex_UsedDay_col,ex_TotalDay_col]])  \n",
    "            else:\n",
    "             print(df_temp[[xcol_key,xcol_date,ex_UsedDay_col,ex_TotalDay_col]])\n",
    "            print(\"#############-----------------------------################\")\n",
    "            \n",
    "            df_temp.drop(columns=[ex_UsedDay_col, ex_TotalDay_col], inplace=True)\n",
    "            \n",
    "            return df_temp\n",
    "            \n",
    "        # In month  you have to have No.Day of Usage\n",
    "        if df_InMonth.empty == False:\n",
    "            \n",
    "            print(f\"3.1#1 {xcol_key} In-Month :No-Rows= {len(df_InMonth)} Before Calculation\")\n",
    "            print(df_InMonth[[xcol_key, xcol_date] + cost_Cols])\n",
    "            \n",
    "            print(f\"Calculate {xcol_key} In-month\")\n",
    "            \n",
    "            \n",
    "            if is_vm_cost==True:\n",
    "              print(\"Cal VM In Month (VM contain terminated_date column)\")  \n",
    "                \n",
    "              dfInMonth_Not_Null= df_InMonth[df_InMonth[xcol_terminated_date].notnull()].copy()\n",
    "              if dfInMonth_Not_Null.empty == False:\n",
    "                    \n",
    "                print(\"terminated_date value in Cal VM In Month\")     \n",
    "                dfInMonth_Not_Null[ex_UsedDay_col]=  dfInMonth_Not_Null.apply(lambda item: (item[xcol_terminated_date].day-item[xcol_date].day)+1  ,axis=1)\n",
    "              \n",
    "              dfInMonth_Null= df_InMonth[df_InMonth[xcol_terminated_date].isnull()].copy()\n",
    "              if dfInMonth_Null.empty == False:\n",
    "                \n",
    "                print(\"no terminated_date value in Cal VM In Month\") \n",
    "                dfInMonth_Null[ex_UsedDay_col]=  dfInMonth_Null.apply(lambda item: (no_day_in_month - item[xcol_date].day)+1  ,axis=1)  \n",
    "                \n",
    "              df_InMonth=pd.concat([dfInMonth_Not_Null,dfInMonth_Null]) \n",
    "              df_InMonth.reset_index(drop=True,inplace=True)\n",
    " \n",
    "      \n",
    "            else: \n",
    "              print(\"Cal Storage In Month (no terminated_date column )\" )  \n",
    "              df_InMonth[ex_UsedDay_col] = df_InMonth[xcol_date].apply(lambda dtx: (no_day_in_month - dtx.day)+1)\n",
    "            \n",
    "            df_InMonth=cal_x(df_InMonth)\n",
    "            \n",
    "            print(f\"3.1#2 {xcol_key} In-Month : {len(df_InMonth)} After Calculation\")\n",
    "            print(df_InMonth[[xcol_key, xcol_date] + cost_Cols])\n",
    "            \n",
    "\n",
    "        else:\n",
    "            print(f\"No {xcol_key} In-Month to calculate\")\n",
    "            \n",
    "            \n",
    "        print(\"=================================================================================\")\n",
    "        if df_FullMonth.empty == False:\n",
    "            \n",
    "            print(f'3.2#1 {xcol_key} Full-Month : No-Rows= {len(df_FullMonth)} Before Calculation')\n",
    "            print(df_FullMonth[[xcol_key, xcol_date] + cost_Cols])   \n",
    "            # VM\n",
    "            if is_vm_cost==True:\n",
    "              \n",
    "              # vm contain terminated_date certainly\n",
    "              print(\"Full month ==> VM\")  \n",
    "                                   \n",
    "              df_FullMonth_Not_Null= df_FullMonth[df_FullMonth[xcol_terminated_date].notnull()].copy()   \n",
    "              df_FullMonth_Null= df_FullMonth[df_FullMonth[xcol_terminated_date].isnull()].copy()\n",
    "            \n",
    "              if  df_FullMonth_Not_Null.empty==False :\n",
    "                print(\"terminated_date value in Cal VM Full Month\")     \n",
    "                df_FullMonth_Not_Null[ex_UsedDay_col] =df_FullMonth_Not_Null.apply(lambda item:item[xcol_terminated_date].day  ,axis=1)\n",
    "                df_FullMonth_Not_Null=cal_x(df_FullMonth_Not_Null)\n",
    "                  \n",
    "              df_FullMonth=pd.concat([df_FullMonth_Not_Null,df_FullMonth_Null]) \n",
    "              df_FullMonth.reset_index(drop=True,inplace=True)  \n",
    "\n",
    "            # storage\n",
    "            else:\n",
    "                print(\"Full month ==> Storage\")  \n",
    "                \n",
    "            print(f'3.2#2 {xcol_key} Full-Month : No-Rows={len(df_FullMonth)} After Calculation')\n",
    "            print(df_FullMonth[[xcol_key, xcol_date] + cost_Cols])       \n",
    "            \n",
    "        else:\n",
    "            print(f\"No {xcol_key} Full-Month to calculate\")\n",
    "\n",
    "        print(f\"4.Merge {xcol_key} Dataframe\")\n",
    "        df_xxx = pd.concat([df_InMonth, df_FullMonth])\n",
    "        df_xxx = df_xxx.reset_index(drop=True)\n",
    "\n",
    "        print(df_xxx[[xcol_key, xcol_date] + cost_Cols])\n",
    "        #print(df_xxx.info())\n",
    "\n",
    "        return df_xxx\n",
    "\n",
    "    except Exception as ex:\n",
    "        raise  ex\n"
   ]
  },
  {
   "cell_type": "code",
   "execution_count": null,
   "metadata": {},
   "outputs": [],
   "source": [
    "print(df_vm[[ xcol_vm,x_col_state_vm, xcol_date,xcol_terminated_date] ])\n",
    "df_vm[[ xcol_vm,x_col_state_vm, xcol_date,xcol_terminated_date] + in_Cols+out_Cols ].to_excel(f'{test_file_detail_report}\\\\vm_before_adjust_cost.xlsx')"
   ]
  },
  {
   "cell_type": "code",
   "execution_count": null,
   "metadata": {
    "scrolled": true
   },
   "outputs": [],
   "source": [
    "\n",
    "\n",
    "print(f\"1.Split poweredOn to calculate\")\n",
    "dfx_on = df_vm[ (df_vm['powerstate']=='poweredOn')].copy()\n",
    "print(dfx_on[[ xcol_vm,x_col_state_vm, xcol_date,xcol_terminated_date] + in_Cols+out_Cols ])\n",
    "\n",
    "#dfx_on[[ xcol_vm,x_col_state_vm, xcol_date,xcol_terminated_date] + in_Cols+out_Cols ].to_excel(f'{test_file_detail_report}\\\\vm_on_before_adjust_cost.xlsx')\n",
    "\n",
    "dfx_on=xyz(dfx_on,xcol_vm,out_Cols,True)\n",
    "\n",
    "#dfx_on[[ xcol_vm,x_col_state_vm, xcol_date,xcol_terminated_date] + in_Cols+out_Cols ].to_excel(f'{test_file_detail_report}\\\\vm_on_after_adjust_cost.xlsx')"
   ]
  },
  {
   "cell_type": "code",
   "execution_count": null,
   "metadata": {
    "scrolled": true
   },
   "outputs": [],
   "source": [
    "print(f\"1.Split poweredOff to calculate\")\n",
    "dfx_off = df_vm[ (df_vm['powerstate']=='poweredOff')].copy()\n",
    "\n",
    "\n",
    "print(dfx_off[[ xcol_vm,x_col_state_vm, xcol_date,xcol_terminated_date] + in_Cols+out_Cols ])\n",
    "#dfx_off[[ xcol_vm,x_col_state_vm, xcol_date,xcol_terminated_date] + in_Cols+out_Cols ].to_excel(f'{test_file_detail_report}\\\\vm_off_before_adjust_cost.xlsx')\n",
    "\n",
    "\n",
    "\n",
    "dfx_off=xyz(dfx_off,xcol_vm,out_Cols,True)\n",
    "\n",
    "\n",
    "#dfx_off[[ xcol_vm,x_col_state_vm, xcol_date,xcol_terminated_date] + in_Cols+out_Cols ].to_excel(f'{test_file_detail_report}\\\\vm_off_after_adjust_cost.xlsx')\n"
   ]
  },
  {
   "cell_type": "code",
   "execution_count": null,
   "metadata": {},
   "outputs": [],
   "source": [
    "print(\"VM Cost Online and Offline\")\n",
    "\n",
    "df_vm=pd.concat([dfx_on,dfx_off])\n",
    "df_vm.reset_index(drop=True,inplace=True)\n",
    "\n",
    "df_vm[[ xcol_vm,x_col_state_vm, xcol_date,xcol_terminated_date] + in_Cols+out_Cols ].to_excel(f'{test_file_detail_report}\\\\vm_after_adjust_cost.xlsx')\n"
   ]
  },
  {
   "cell_type": "code",
   "execution_count": null,
   "metadata": {},
   "outputs": [],
   "source": [
    "print(df_vm[[ xcol_vm,x_col_state_vm, xcol_date,xcol_terminated_date] + in_Cols+out_Cols ])"
   ]
  },
  {
   "cell_type": "code",
   "execution_count": null,
   "metadata": {},
   "outputs": [],
   "source": []
  },
  {
   "cell_type": "markdown",
   "metadata": {},
   "source": [
    "# Change from internal name to display name"
   ]
  },
  {
   "cell_type": "code",
   "execution_count": null,
   "metadata": {},
   "outputs": [],
   "source": [
    "# for  actual data\n",
    "df_vm=rename_display_columns(df_vm)\n",
    "print(df_vm)"
   ]
  },
  {
   "cell_type": "code",
   "execution_count": null,
   "metadata": {},
   "outputs": [],
   "source": []
  },
  {
   "cell_type": "markdown",
   "metadata": {},
   "source": [
    "# Process Storage Info"
   ]
  },
  {
   "cell_type": "markdown",
   "metadata": {},
   "source": [
    "# 1-Load Storage Data "
   ]
  },
  {
   "cell_type": "code",
   "execution_count": null,
   "metadata": {},
   "outputs": [],
   "source": [
    "def get_storage_for_calculations(table_x,cols_x,notDisplayCols_x):\n",
    "    \n",
    " print(f\"load storge data from {table_x} by month and year\")\n",
    " df_x,all_column_x=load_dataframe(table_x,cols_x,notDisplayCols_x,month_param,year_param)\n",
    " \n",
    " if df_x is not None:\n",
    "  print(f\"select column cost from {table_x}  for calculation\")\n",
    "  # df_master is global variable \n",
    "  storage_master_cal=list_calculation_columns(all_column_x,df_master['column_table_name'].tolist())\n",
    "  print(storage_master_cal) \n",
    "  \n",
    "  return  df_x,all_column_x,storage_master_cal\n",
    " else:\n",
    "    return None,None,None"
   ]
  },
  {
   "cell_type": "markdown",
   "metadata": {},
   "source": [
    "# 2-Calculate Storage Cost"
   ]
  },
  {
   "cell_type": "code",
   "execution_count": null,
   "metadata": {},
   "outputs": [],
   "source": [
    "def cal_cost_value(df_x,storage_master_x):\n",
    " print(\"create storage master-cost column name and set default value\")\n",
    "\n",
    " # df_master is global variable \n",
    " xyz_storageCostColName=[]\n",
    " for x in storage_master_x:\n",
    "   sr_temp=(df_master.query('column_table_name==@x')).iloc[0]\n",
    "   xyz_storageCostColName.append(sr_temp['cost_column_display_name']) \n",
    "\n",
    " print(xyz_storageCostColName)\n",
    "\n",
    " df_x[xyz_storageCostColName]=0.0\n",
    "\n",
    " print(\"calculate cost storage\")\n",
    "\n",
    " df_x=process_cal_masterCost(df_x,storage_master_x,df_master)\n",
    " return df_x , xyz_storageCostColName\n",
    "\n"
   ]
  },
  {
   "cell_type": "markdown",
   "metadata": {},
   "source": [
    "# 3-Change storage cost column from data field table to cost type table"
   ]
  },
  {
   "cell_type": "code",
   "execution_count": null,
   "metadata": {},
   "outputs": [],
   "source": [
    "def change_cost_column_name(x_costtype_params,xCostColName):\n",
    "    \n",
    "    print(\"Get Total Summary Cost Type of Storage\")\n",
    "    cost_type_df,costTypeDict=create_total_DF_Dict(x_costtype_params)\n",
    "    print(cost_type_df,costTypeDict)\n",
    "\n",
    "    if len(cost_type_df)!=len(x_costtype_params):\n",
    "     list_error.append(True)\n",
    "     error_message=f\"Not found  some type name in table cost type as follows {x_costtype_params}\"\n",
    "     print(error_message)  \n",
    "     vm_util.add_error_to_database(19,error_message,t_id) \n",
    "    else:\n",
    "      new_xCostColName=cost_type_df['report_name'].tolist()\n",
    "      print(\"New Cost Name \",new_xCostColName)\n",
    "\n",
    "\n",
    "    if  len(new_xCostColName)!=len(xCostColName):\n",
    "     list_error.append(True)\n",
    "     error_message=f\"Not allow storage-cost more than one in  either datafield_mapping or cost_type  table\"\n",
    "     print(error_message)  \n",
    "     vm_util.add_error_to_database(19,error_message,t_id) \n",
    "     return None   \n",
    "    else:\n",
    "      print(\"Mapping name To New Cost Column Name\")  \n",
    "      xyz_cost_x_map=dict(zip(xCostColName,new_xCostColName) ) \n",
    "      print(xyz_cost_x_map)\n",
    "      return xyz_cost_x_map  "
   ]
  },
  {
   "cell_type": "markdown",
   "metadata": {},
   "source": [
    "# Storge NetApp"
   ]
  },
  {
   "cell_type": "code",
   "execution_count": null,
   "metadata": {},
   "outputs": [],
   "source": [
    "print(\"Calcualate cost NetApp\")\n",
    "df_storage,all_column_storage,storage_master=get_storage_for_calculations(table_st,xcol_st,notDisplayCols_storge)\n",
    "\n",
    "print(\"1.Get Data for NetApp Cost\")\n",
    "\n",
    "if df_storage  is not None:\n",
    "    print(\"=======================================================\")\n",
    "    \n",
    "    print(all_column_storage)\n",
    "    print(storage_master)\n",
    "\n",
    "    print(\"=======================================================\")\n",
    "    print(\"2.Calculate data as full month\")\n",
    "    df_storage,storageCostColName=cal_cost_value(df_storage,storage_master)\n",
    "    print(storageCostColName)\n",
    "    print(df_storage)\n",
    "\n",
    "    check_error_point(t_id)\n",
    "\n",
    "    print(\"=======================================================\")\n",
    "    print(\"3.Adjust Cost  Storage as intra-month\")\n",
    " \n",
    "    df_storage=xyz(df_storage,xcol_st,storageCostColName,False)\n",
    "    check_error_point(t_id)\n",
    "\n",
    "    print(\"4.Change cost column as cost_type table\")\n",
    "    storage_cost_x_map=change_cost_column_name(storage_costtype_params,storageCostColName)\n",
    "\n",
    "    df_storage=rename_display_columns(df_storage)\n",
    "    df_storage=df_storage.rename(columns=storage_cost_x_map)\n",
    "\n",
    "    check_error_point(t_id)\n",
    "    \n",
    "    print(df_storage)\n",
    "else:\n",
    "    print(f\"No data for netapp in {month_param}-{year_param}\")\n",
    "\n"
   ]
  },
  {
   "cell_type": "markdown",
   "metadata": {},
   "source": [
    "# Storage Nimble"
   ]
  },
  {
   "cell_type": "code",
   "execution_count": null,
   "metadata": {},
   "outputs": [],
   "source": [
    "print(\"Calcualate cost Nimble\")\n",
    "nimble_table=\"report_nimble_info\"\n",
    "nimble_xcol=\"volume_name_nimble\"\n",
    "nimble_notDisp=['id','transaction_id', 'comment_nimble']\n",
    "nimble_costtype_params=['nimble_cost']\n",
    "\n",
    "df_nimble,all_column_nimble,nimble_master=get_storage_for_calculations(nimble_table,nimble_xcol,nimble_notDisp)\n",
    "\n",
    "print(\"1.Get Data for Nimble Cost\")\n",
    "\n",
    "if df_nimble  is not None:\n",
    "\n",
    "    print(\"=======================================================\")\n",
    "    \n",
    "    print(all_column_nimble)\n",
    "    print(nimble_master)\n",
    "    \n",
    "    print(\"=======================================================\")\n",
    "    print(\"2.Calculate data nimble\")\n",
    "    df_nimble,nimbleCostColName=cal_cost_value(df_nimble,nimble_master)\n",
    "    print(df_nimble)\n",
    "    print(nimbleCostColName)\n",
    "    check_error_point(t_id)\n",
    "\n",
    "    print(\"3.Nimble Adjust Cost  Storage as intra-month\")\n",
    "    \n",
    "    df_nimble=xyz(df_nimble,nimble_xcol,nimbleCostColName,False)\n",
    "\n",
    "\n",
    "    check_error_point(t_id)\n",
    "\n",
    "    print(\"4.Change cost column\")\n",
    "    nimble_cost_x_map=change_cost_column_name(nimble_costtype_params,nimbleCostColName)\n",
    "\n",
    "    df_nimble=rename_display_columns(df_nimble)\n",
    "    df_nimble=df_nimble.rename(columns=nimble_cost_x_map)\n",
    "    \n",
    "    check_error_point(t_id)\n",
    "\n",
    "    print(df_nimble)\n",
    "else:\n",
    "    print(f\"No data for nimble in {month_param}-{year_param}\")"
   ]
  },
  {
   "cell_type": "markdown",
   "metadata": {},
   "source": [
    "# Storage Primera"
   ]
  },
  {
   "cell_type": "code",
   "execution_count": null,
   "metadata": {},
   "outputs": [],
   "source": [
    "print(\"Calcualate cost Primera\")\n",
    "primera_table=\"report_primera_info\"\n",
    "primera_xcol=\"volume_name_primera\"\n",
    "primera_notDisp=['id','transaction_id', 'comment_primera']\n",
    "primera_costtype_params=['primera_cost']\n",
    "\n",
    "df_primera,all_column_primera,primera_master=get_storage_for_calculations(primera_table,primera_xcol,primera_notDisp)\n",
    "\n",
    "print(\"1.Get Data for Primera Cost\")\n",
    "\n",
    "if df_primera  is not None:\n",
    "\n",
    "    print(\"=======================================================\")\n",
    "   \n",
    "    print(all_column_primera)\n",
    "    print(primera_master)\n",
    "    \n",
    "\n",
    "    print(\"=======================================================\")\n",
    "    print(\"2.Calculate data primera\")\n",
    "    df_primera,primeraCostColName=cal_cost_value(df_primera,primera_master)\n",
    "    print(primeraCostColName)\n",
    "    print(df_primera)\n",
    "    check_error_point(t_id)\n",
    "\n",
    "    print(\"3.Primera Adjust Cost  Storage as intra-month\")\n",
    " \n",
    "    df_primera=xyz(df_primera,primera_xcol,primeraCostColName,False)\n",
    "    check_error_point(t_id)\n",
    "\n",
    "    print(\"4.Change cost column\")\n",
    "    primera_cost_x_map=change_cost_column_name(primera_costtype_params,primeraCostColName)\n",
    "\n",
    "    df_primera=rename_display_columns(df_primera)\n",
    "    df_primera=df_primera.rename(columns=primera_cost_x_map)\n",
    "    \n",
    "    check_error_point(t_id)\n",
    "\n",
    "    print(df_primera)\n",
    "else:\n",
    "    print(f\"No data for primera in {month_param}-{year_param}\")\n"
   ]
  },
  {
   "cell_type": "markdown",
   "metadata": {},
   "source": [
    "# Creat Price Reference"
   ]
  },
  {
   "cell_type": "code",
   "execution_count": null,
   "metadata": {},
   "outputs": [],
   "source": [
    "ref_master=df_master[['description','cost_unit']].copy()\n",
    "ref_master=ref_master.rename(columns={'column_table_name': 'Cost','cost_unit': 'Price/Unit(Bath)'},)\n",
    "print(ref_master)"
   ]
  },
  {
   "cell_type": "code",
   "execution_count": null,
   "metadata": {},
   "outputs": [],
   "source": [
    "ref_fixed=df_fixed[['description','cost_unit','ref_column_table_name']].copy()\n",
    "#df = df.fillna(\"\")\n",
    "ref_fixed['ref_column_table_name']=ref_fixed['ref_column_table_name'].apply(lambda item: ' ' if item is None else item )\n",
    "\n",
    "ref_fixed=ref_fixed.rename(columns={'column_table_name': 'Cost','cost_unit': 'Price/Unit(Bath)',\n",
    "                                   'ref_column_table_name':'Ref-Other'\n",
    "                                   })\n",
    "print(ref_fixed)"
   ]
  },
  {
   "cell_type": "code",
   "execution_count": null,
   "metadata": {},
   "outputs": [],
   "source": [
    "ref_addtion=df_addt_cost[['cost_name','cost_unit','cost_cal_unit','ref_column_table_name'\n",
    "                          ,'master_cost_unitbase','column_table_name']].copy()\n",
    "none_to_emp_cols=['ref_column_table_name','master_cost_unitbase','cost_cal_unit','cost_cal_unit']\n",
    "\n",
    "#df = df.fillna(\"\")\n",
    "for xxx in none_to_emp_cols:\n",
    "  ref_addtion[xxx]= ref_addtion[xxx].apply(lambda item: ' ' if item is None else item )\n",
    "\n",
    "\n",
    "ref_addtion=ref_addtion.rename(columns={'cost_name': 'Cost',\n",
    "                                    'cost_unit': 'Price/Unit(Bath)','cost_cal_unit':'CAL Price/Unit(Bath)',\n",
    "                                   'ref_column_table_name':'Ref-Other','master_cost_unitbase':'Core UnitBase',\n",
    "                                    'column_table_name':'Category'\n",
    "                                   })\n",
    "                  \n",
    "print(ref_addtion)"
   ]
  },
  {
   "cell_type": "markdown",
   "metadata": {},
   "source": [
    "# Summarize Transaction"
   ]
  },
  {
   "cell_type": "code",
   "execution_count": null,
   "metadata": {},
   "outputs": [],
   "source": [
    "try: \n",
    "\n",
    "    updated_rows=vm_util.created_transaction(t_id)\n",
    "    print(\"completed building detail data\")\n",
    "    \n",
    "except Exception as ex:\n",
    "    list_error.append(True)\n",
    "    print(ex)\n",
    "    \n",
    "check_error_point(t_id)"
   ]
  },
  {
   "cell_type": "code",
   "execution_count": null,
   "metadata": {},
   "outputs": [],
   "source": [
    "data_dict={'vm_detail':df_vm,\n",
    "          'storage_detail':df_storage,\n",
    "           'nimble_detail':df_nimble,\n",
    "           'primera_detail':df_primera,\n",
    "           'cost_ref_master':ref_master,\n",
    "          'cost_ref_fixed':ref_fixed,\n",
    "          'cost_ref_addition':ref_addtion\n",
    "         }\n",
    "\n",
    "print(\"================Thank you for your effort==============\")\n",
    "print(\"Completed cost calculation\")"
   ]
  },
  {
   "cell_type": "code",
   "execution_count": null,
   "metadata": {},
   "outputs": [],
   "source": [
    "#return data_dict\n"
   ]
  },
  {
   "cell_type": "code",
   "execution_count": null,
   "metadata": {},
   "outputs": [],
   "source": []
  },
  {
   "cell_type": "code",
   "execution_count": null,
   "metadata": {},
   "outputs": [],
   "source": []
  }
 ],
 "metadata": {
  "kernelspec": {
   "display_name": "Python 3",
   "language": "python",
   "name": "python3"
  },
  "language_info": {
   "codemirror_mode": {
    "name": "ipython",
    "version": 3
   },
   "file_extension": ".py",
   "mimetype": "text/x-python",
   "name": "python",
   "nbconvert_exporter": "python",
   "pygments_lexer": "ipython3",
   "version": "3.8.5"
  }
 },
 "nbformat": 4,
 "nbformat_minor": 4
}
