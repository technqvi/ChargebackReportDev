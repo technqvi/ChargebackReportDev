{
 "cells": [
  {
   "cell_type": "code",
   "execution_count": null,
   "metadata": {},
   "outputs": [],
   "source": [
    "import os\n",
    "import zipfile \n",
    "import datetime\n",
    "import shutil "
   ]
  },
  {
   "cell_type": "code",
   "execution_count": null,
   "metadata": {},
   "outputs": [],
   "source": [
    "def make_zip(report_diectory,list_fileType,zip_file):\n",
    " try:   \n",
    "  x_dir_back='.'\n",
    "  compression = zipfile.ZIP_DEFLATED\n",
    "  with zipfile.ZipFile(zip_file,'w',zipfile.ZIP_DEFLATED) as zip: \n",
    "   for root, dirs, files in os.walk(report_diectory):\n",
    "    for file in files:\n",
    "      name, extension = os.path.splitext(file)  \n",
    "      if extension in list_fileType:\n",
    "        #print(file)\n",
    "        zip.write(os.path.join(root, file), os.path.relpath(os.path.join(root, file), os.path.join(report_diectory, x_dir_back)),compress_type=compression)\n",
    "   \n",
    "   return True\n",
    " except Exception as ex:\n",
    "    raise ex\n",
    "        \n",
    " \n"
   ]
  },
  {
   "cell_type": "code",
   "execution_count": null,
   "metadata": {},
   "outputs": [],
   "source": [
    "def delele_file(file_path):\n",
    " try:   \n",
    "    os.remove(file_path)\n",
    "    return True\n",
    " except Exception as ex:\n",
    "    raise ex\n",
    "    "
   ]
  },
  {
   "cell_type": "code",
   "execution_count": null,
   "metadata": {},
   "outputs": [],
   "source": [
    "def delete_entire_directory(directory_path):   \n",
    " try:\n",
    "     shutil.rmtree(directory_path)\n",
    "     return True\n",
    " except OSError as ex:\n",
    "    raise ex\n",
    "\n",
    "    "
   ]
  },
  {
   "cell_type": "code",
   "execution_count": null,
   "metadata": {},
   "outputs": [],
   "source": [
    "def create_directory(directory_path):\n",
    "\n",
    " try:  \n",
    "    if not os.path.exists(directory_path):\n",
    "     os.mkdir(directory_path)  \n",
    "     return True\n",
    "    else :\n",
    "     return False   \n",
    " except OSError as error:  \n",
    "    raise error"
   ]
  },
  {
   "cell_type": "code",
   "execution_count": null,
   "metadata": {},
   "outputs": [],
   "source": [
    "def move_file(source_file,target_directory):\n",
    " try:\n",
    "   if os.path.exists(source_file) and  os.path.exists(target_directory):\n",
    "    shutil.move(source_file,target_directory) \n",
    "   else:\n",
    "    raise Exception(f\"not found some paths either {source_file} or {target_directory}\")  \n",
    " except Exception as error:  \n",
    "   raise error  \n",
    "    \n"
   ]
  },
  {
   "cell_type": "code",
   "execution_count": null,
   "metadata": {},
   "outputs": [],
   "source": [
    "def rename_file(original_file,new_file):\n",
    " try:\n",
    "    if os.path.exists(original_file) : \n",
    "     os.rename(original_file, new_file)\n",
    "    else:\n",
    "     raise Exception(f\"not found {original_file}\") \n",
    " except Exception as error:  \n",
    "   raise error     \n"
   ]
  },
  {
   "cell_type": "code",
   "execution_count": null,
   "metadata": {},
   "outputs": [],
   "source": [
    "def check_existing_folder_and"
   ]
  },
  {
   "cell_type": "code",
   "execution_count": null,
   "metadata": {},
   "outputs": [],
   "source": [
    "def is_notEmpty_folder(path): \n",
    "  x=False  \n",
    "  try:  \n",
    "    \n",
    "    if os.path.exists(path) and not os.path.isfile(path): \n",
    "        x=x+True\n",
    "        if  os.listdir(path): \n",
    "            x=x+True\n",
    "     \n",
    "  except Exception as error:  \n",
    "    raise error\n",
    "    \n",
    "  return int(x)  "
   ]
  },
  {
   "cell_type": "markdown",
   "metadata": {},
   "source": [
    "# Test SendMail Process"
   ]
  },
  {
   "cell_type": "code",
   "execution_count": null,
   "metadata": {},
   "outputs": [],
   "source": [
    "report_path=os.path.abspath(r'D:\\ChargeBackApp\\report_data\\01-2021')\n",
    "temp_path=os.path.abspath(r'D:\\ChargeBackApp\\temp')\n"
   ]
  },
  {
   "cell_type": "code",
   "execution_count": null,
   "metadata": {},
   "outputs": [],
   "source": [
    "zip_folder_name=f\"zip_report_{datetime.datetime.now().strftime('%d-%m-%y_%H%M%S')}\"\n",
    "zip_folder_path = os.path.join(temp_path,zip_folder_name) \n",
    "\n",
    "print(zip_folder_path)\n",
    "result_os=create_directory(zip_folder_path)\n",
    "\n"
   ]
  },
  {
   "cell_type": "code",
   "execution_count": null,
   "metadata": {},
   "outputs": [],
   "source": [
    "zip_filename= 'chargeback_report_01-2021.zip' \n",
    "zip_temp_file = os.path.join(zip_folder_path,zip_filename)  \n",
    "type_to_zip=['.pdf','.xlsx']\n",
    "\n",
    "print(zip_temp_file)   \n",
    "result_os=make_zip(report_path,type_to_zip,zip_temp_file)\n",
    "print(result_os)   "
   ]
  },
  {
   "cell_type": "code",
   "execution_count": null,
   "metadata": {},
   "outputs": [],
   "source": [
    "result_os=delete_entire_directory(zip_folder_path)"
   ]
  },
  {
   "cell_type": "code",
   "execution_count": null,
   "metadata": {},
   "outputs": [],
   "source": [
    "#Move\n",
    "move_file( os.path.abspath(r'D:\\ChargeBackApp\\import_data\\process_import\\VeeamOne_ExportBackup.xlsx'),\n",
    "           os.path.abspath(r'D:\\ChargeBackApp\\import_data\\completed_import\\1-25012021_2355_vm') \n",
    ")  \n",
    "\n",
    "\n"
   ]
  },
  {
   "cell_type": "code",
   "execution_count": null,
   "metadata": {},
   "outputs": [],
   "source": [
    "#Rename\n",
    "buildtime=datetime.datetime.now().strftime('%d%m%Y_%H%M%S')\n",
    "print(buildtime)\n",
    "rename_file( os.path.abspath(r'D:\\ChargeBackApp\\import_data\\completed_import\\1-25012021_2355_vm\\VeeamOne_ExportBackup.xlsx'),\n",
    "           os.path.abspath(r'D:\\ChargeBackApp\\import_data\\completed_import\\1-25012021_2355_vm\\VeeamOne_ExportBackup_26022020_0012_error.xlsx') \n",
    "          )  \n",
    "    "
   ]
  },
  {
   "cell_type": "code",
   "execution_count": null,
   "metadata": {},
   "outputs": [],
   "source": [
    "x=is_notEmpty_folder(os.path.abspath(r'D:\\ChargeBackApp\\report_data\\05-2021'))\n",
    "x"
   ]
  },
  {
   "cell_type": "code",
   "execution_count": null,
   "metadata": {},
   "outputs": [],
   "source": []
  }
 ],
 "metadata": {
  "kernelspec": {
   "display_name": "Python 3",
   "language": "python",
   "name": "python3"
  },
  "language_info": {
   "codemirror_mode": {
    "name": "ipython",
    "version": 3
   },
   "file_extension": ".py",
   "mimetype": "text/x-python",
   "name": "python",
   "nbconvert_exporter": "python",
   "pygments_lexer": "ipython3",
   "version": "3.8.5"
  }
 },
 "nbformat": 4,
 "nbformat_minor": 4
}
