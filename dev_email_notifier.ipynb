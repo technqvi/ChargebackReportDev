{
 "cells": [
  {
   "cell_type": "code",
   "execution_count": null,
   "metadata": {},
   "outputs": [],
   "source": [
    "import email, smtplib, ssl, os, sys, shutil\n",
    "\n",
    "import pandas as pd\n",
    "\n",
    "from email import encoders\n",
    "from email.mime.base import MIMEBase\n",
    "from email.mime.multipart import MIMEMultipart\n",
    "from email.mime.text import MIMEText\n",
    "from socket import gaierror\n",
    "\n",
    "from jinja2 import Environment, FileSystemLoader\n",
    "import datetime\n",
    "import chargeback_rpt.vm_data_utility as vm_util\n",
    "import chargeback_rpt.db_postgres_command as db_command"
   ]
  },
  {
   "cell_type": "code",
   "execution_count": null,
   "metadata": {},
   "outputs": [],
   "source": [
    "email_type='report'\n",
    "attached_file_path = os.path.abspath(r'D:\\JupyterCode\\Yit\\ChargebackReport\\temp\\chargeback_report_01-2021.zip')\n",
    "content_data_dict= {\n",
    "                 \"ContentTitle\":\"List All Cost-Center Report in AttachedFile\",\n",
    "                 \"CostCenterList\" :[\"Overview\",\"GL1\",\"GL2\",\"GL3\",\"GL4\"]\n",
    "                }\n",
    "\n",
    "t_id=1\n",
    "kwargs={'email_type':email_type,'transaction_id':t_id,\n",
    "        'attached_file_path':attached_file_path,'content_data_dict':content_data_dict}\n",
    "\n",
    "for key, value in kwargs.items() :\n",
    "        print(f'{key} - {value}')\n",
    "\n",
    "# send_email(email_type=email_type,attached_file=attached_file_path,content_data_dict=content_data_dict)"
   ]
  },
  {
   "cell_type": "markdown",
   "metadata": {},
   "source": [
    "# Parameters to initialize email as Dicts **"
   ]
  },
  {
   "cell_type": "code",
   "execution_count": null,
   "metadata": {},
   "outputs": [],
   "source": [
    "#def send_email(**kwargs):\n",
    "\n",
    "# opion_keys=['email_subject']\n",
    "required_keys=['email_type','transaction_id','attached_file_path','content_data_dict']\n",
    "server_info={'email_server':None,'email_port':None,'email_user':None,'email_password':None}\n",
    "try:\n",
    " key_not_found=[]\n",
    " email_data=kwargs\n",
    " \n",
    " for key in required_keys:\n",
    "  if key not in email_data:\n",
    "   key_not_found.append(key)\n",
    " \n",
    " if  len(key_not_found)>0:\n",
    "  raise Exception(f'not found these info for sending email:{required_keys}')\n",
    " else:\n",
    "  email_type=email_data['email_type'] \n",
    "  t_id=email_data['transaction_id'] \n",
    "  attached_file_path=email_data['attached_file_path']\n",
    "  content_data_dict=email_data['content_data_dict']\n",
    "\n",
    "except Exception as ex:\n",
    " if  'transaction_id' in  key_not_found:\n",
    "  vm_util.add_error_to_database(23,str(ex),None)\n",
    " else:\n",
    "  vm_util.add_error_to_database(23,str(ex),email_data['transaction_id'])\n",
    "    \n",
    " raise Exception(ex )\n",
    "    \n",
    "    \n",
    "\n",
    "\n"
   ]
  },
  {
   "cell_type": "code",
   "execution_count": null,
   "metadata": {},
   "outputs": [],
   "source": [
    "def get_email_subject(email_type,title):\n",
    "\n",
    "  x_datenow=datetime.datetime.now()  \n",
    "\n",
    "  new_title=title\n",
    "    \n",
    "  if  email_type=='error':\n",
    "   timestamp=datetime.datetime.now().strftime('%d-%m-%y_%H%M')\n",
    "   new_title=f\"{title} {timestamp}\"\n",
    "\n",
    "  else :\n",
    "   month_param=x_datenow.strftime('%B')\n",
    "   year_param=x_datenow.strftime('%Y')\n",
    "   new_title=f'{title} {month_param}-{year_param}'\n",
    "\n",
    "  return new_title\n",
    "    \n",
    "        \n",
    "        "
   ]
  },
  {
   "cell_type": "code",
   "execution_count": null,
   "metadata": {},
   "outputs": [],
   "source": [
    "def get_mail_server(server_info,tran_id=None):\n",
    " \n",
    " for key,value in server_info.items():\n",
    "    val_sr=vm_util.get_value_by_key(key)  \n",
    "    #print(val_sr['value'])\n",
    "    if (val_sr is not None)  :\n",
    "       server_info[key]=val_sr['value']\n",
    "    else:\n",
    "       error_des=f'no key:{key} in key column for  email-server info in config_value table'\n",
    "       vm_util.add_error_to_database(3,error_des,tran_id)\n",
    "       raise Exception(error_des )\n",
    "  \n",
    " return server_info\n",
    "\n"
   ]
  },
  {
   "cell_type": "code",
   "execution_count": null,
   "metadata": {},
   "outputs": [],
   "source": [
    "def set_mail_connection(ip,port):\n",
    "    if (ip is not None) and  (port is not None):\n",
    "      return smtplib.SMTP(ip,port)\n",
    "    elif (ip is not None) and  (port is  None):\n",
    "      return smtplib.SMTP(ip)\n",
    "    else:\n",
    "      raise Exception(\"not allow ip is none\" )\n",
    "     "
   ]
  },
  {
   "cell_type": "code",
   "execution_count": null,
   "metadata": {},
   "outputs": [],
   "source": [
    "def get_email_by_type(type,tran_id=None):\n",
    "   sql=\"select * from email_notification_type where email_type=(%s)\"\n",
    "   paramx=(type,)\n",
    "   valx=db_command.get_one_sql(db_command.get_postgres_conn(),sql,paramx)\n",
    "   if(valx is not None):\n",
    "    sr=pd.Series(valx)\n",
    "    return sr\n",
    "   else:\n",
    "    error_des=f'not found email_type={type} in email_notification_type table'   \n",
    "    vm_util.add_error_to_database(22,str(error_des),tran_id)\n",
    "    raise Exception(error_des)"
   ]
  },
  {
   "cell_type": "code",
   "execution_count": null,
   "metadata": {},
   "outputs": [],
   "source": [
    "#def attach_multiplefiles(file_path)\n",
    "def attach_singlefile(file_path):\n",
    "\n",
    " try:\n",
    "  with open(file_path, \"rb\") as attachment:\n",
    "\n",
    "    part = MIMEBase(\"application\", \"octet-stream\")\n",
    "    part.set_payload(attachment.read())\n",
    "\n",
    "    encoders.encode_base64(part)\n",
    "    \n",
    "    file_name=os.path.basename(file_path)\n",
    "    part.add_header(\n",
    "    \"Content-Disposition\",\n",
    "    f\"attachment; filename= {file_name}\",)\n",
    "\n",
    "    return part\n",
    "\n",
    " except Exception as error:\n",
    "   raise Exception(error )    "
   ]
  },
  {
   "cell_type": "markdown",
   "metadata": {},
   "source": [
    "# Get Email Data from DB"
   ]
  },
  {
   "cell_type": "code",
   "execution_count": null,
   "metadata": {},
   "outputs": [],
   "source": [
    "# get from database\n",
    "server_info=get_mail_server(server_info,t_id)\n",
    "#print(server_info)\n",
    "\n",
    "host = server_info['email_server']\n",
    "port = server_info['email_port']\n",
    "uid = server_info['email_user'] # paste your login generated by Mailtrap\n",
    "password =server_info['email_password'] # paste your password generated by Mailtra\n",
    "\n",
    "print(f'server={host} , port={port} , username={uid},pwd={password}')\n"
   ]
  },
  {
   "cell_type": "code",
   "execution_count": null,
   "metadata": {},
   "outputs": [],
   "source": [
    "\n",
    "sr=get_email_by_type(email_type,t_id) \n",
    "for key,item in sr.iteritems():\n",
    " print(f\"{key} = {item}\")\n",
    "\n",
    "x_predix_subject=sr['prefix_subject']\n",
    "\n",
    "# if found  email_data['email_subject'] use subject with this\n",
    "x_subject=get_email_subject(email_type,sr['subject'])\n",
    "\n",
    "\n",
    "x_sender=sr['sender']\n",
    "x_receivers =sr['receivers']\n",
    "x_ccs =sr['CCs']\n",
    "x_email_template=sr['template_content']\n",
    "\n",
    "list_receivers=x_receivers.split(',')\n",
    "\n",
    "if x_ccs is not None:\n",
    " list_CCs = x_ccs.split(',')\n",
    "else:\n",
    " list_CCs=None\n",
    "\n",
    "print(list_receivers)\n",
    "print(list_CCs)"
   ]
  },
  {
   "cell_type": "markdown",
   "metadata": {},
   "source": [
    "# Compose Mail Message Content"
   ]
  },
  {
   "cell_type": "code",
   "execution_count": null,
   "metadata": {},
   "outputs": [],
   "source": [
    "message = MIMEMultipart(\"alternative\")\n",
    "message[\"Subject\"] = f'{x_predix_subject}:{x_subject}'\n",
    "\n",
    "message[\"From\"] = x_sender\n",
    "message[\"To\"] = x_receivers\n",
    "\n",
    "if list_CCs is not None:\n",
    " message[\"Cc\"] = x_ccs\n",
    "\n",
    "\n",
    "print(message[\"From\"])\n",
    "print(message[\"To\"])\n",
    "print(message[\"Cc\"])"
   ]
  },
  {
   "cell_type": "code",
   "execution_count": null,
   "metadata": {},
   "outputs": [],
   "source": [
    "if attached_file_path is not None:\n",
    "    path_attachment=attach_singlefile(attached_file_path) \n",
    "    message.attach(path_attachment)\n",
    "#print(path_attachment)"
   ]
  },
  {
   "cell_type": "code",
   "execution_count": null,
   "metadata": {},
   "outputs": [],
   "source": [
    "html_output=vm_util. get_content_template(x_email_template,content_data_dict,t_id)\n",
    "\n",
    "message.attach(MIMEText(html_output , \"html\"))\n",
    "#print(html_output)"
   ]
  },
  {
   "cell_type": "code",
   "execution_count": null,
   "metadata": {},
   "outputs": [],
   "source": [
    "try:\n",
    "\n",
    "    with set_mail_connection(host,port) as mail_server:\n",
    "        if uid  is not None and password  is not None:\n",
    "          mail_server.login(uid, password)\n",
    "        if list_CCs is None:\n",
    "         mail_server.sendmail(x_sender, list_receivers, message.as_string())\n",
    "        else:\n",
    "         mail_server.sendmail(x_sender, list_receivers+list_CCs, message.as_string())\n",
    "        \n",
    "        print(\"Successfully sent email\")\n",
    "        \n",
    "\n",
    "except Exception as e:\n",
    "    print(\"Error in sending email\")\n",
    "    error_des=f'found any of configuration email value setting in table email_notification_type or  config_value is incorrect '\n",
    "    error_des=error_des+str(e)\n",
    "    vm_util.add_error_to_database(23,error_des,t_id)\n",
    "    \n",
    "    raise Exception(error_des )\n",
    "    "
   ]
  },
  {
   "cell_type": "code",
   "execution_count": null,
   "metadata": {},
   "outputs": [],
   "source": [
    "#return True"
   ]
  },
  {
   "cell_type": "code",
   "execution_count": null,
   "metadata": {},
   "outputs": [],
   "source": []
  }
 ],
 "metadata": {
  "kernelspec": {
   "display_name": "Python 3",
   "language": "python",
   "name": "python3"
  },
  "language_info": {
   "codemirror_mode": {
    "name": "ipython",
    "version": 3
   },
   "file_extension": ".py",
   "mimetype": "text/x-python",
   "name": "python",
   "nbconvert_exporter": "python",
   "pygments_lexer": "ipython3",
   "version": "3.8.5"
  }
 },
 "nbformat": 4,
 "nbformat_minor": 4
}
